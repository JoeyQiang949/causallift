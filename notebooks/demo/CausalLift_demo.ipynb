{
 "cells": [
  {
   "cell_type": "markdown",
   "execution_count": null,
   "metadata": {
    "colab_type": "text",
    "id": "Ddg3GhvCNzhp"
   },
   "outputs": [],
   "source": [
    "# CausalLift demo\n"
   ]
  },
  {
   "cell_type": "markdown",
   "execution_count": null,
   "metadata": {
    "colab_type": "text",
    "id": "7HcIEH-caI8g"
   },
   "outputs": [],
   "source": [
    "### Please see the GitHub repository for details about CausalLift package: \n",
    "\n",
    "https://github.com/Minyus/causallift"
   ]
  },
  {
   "cell_type": "markdown",
   "execution_count": null,
   "metadata": {
    "colab_type": "text",
    "id": "Y6koOFehN7cS"
   },
   "outputs": [],
   "source": [
    "## Import CausalLift"
   ]
  },
  {
   "cell_type": "code",
   "execution_count": 1,
   "metadata": {},
   "outputs": [],
   "source": [
    "try: \n",
    "    import causallift\n",
    "except:\n",
    "    \"\"\" Install CausalLift \"\"\"\n",
    "    !pip3 install causallift\n",
    "    \n",
    "    \"\"\"  Alternatively, you can install the pre-release build by: \"\"\" \n",
    "    # !pip3 install git+git://github.com/Minyus/causallift@v1.0\n",
    "    \n",
    "    \"\"\"  Alternatively, you can import from the cloned GitHub repository without installing: \"\"\" \n",
    "    # import sys\n",
    "    # from pathlib import Path\n",
    "    # print('Current Working Directory: {}'.format(Path().cwd()))\n",
    "    # sys.path.insert(0, str(Path().cwd().parent.parent / \"src\"))"
   ]
  },
  {
   "cell_type": "code",
   "execution_count": 2,
   "metadata": {},
   "outputs": [
    {
     "output_type": "execute_result",
     "data": {
      "text/plain": "'1.0.3'"
     },
     "metadata": {},
     "execution_count": 2
    }
   ],
   "source": [
    "import causallift\n",
    "causallift.__version__"
   ]
  },
  {
   "cell_type": "code",
   "execution_count": 3,
   "metadata": {},
   "outputs": [],
   "source": [
    "from causallift import CausalLift"
   ]
  },
  {
   "cell_type": "markdown",
   "execution_count": null,
   "metadata": {
    "colab_type": "text",
    "id": "lIRz6XAIp1ot"
   },
   "outputs": [],
   "source": [
    "## Import other modules"
   ]
  },
  {
   "cell_type": "code",
   "execution_count": 4,
   "metadata": {},
   "outputs": [],
   "source": [
    "from sklearn.model_selection import train_test_split\n",
    "\n",
    "import pandas as pd\n",
    "\n",
    "\"\"\" display only top 4 and bottom 4 rows of pandas Data Frame if more than 8 rows \"\"\"\n",
    "pd.options.display.max_rows = 8 \n",
    "\n",
    "seed = 0"
   ]
  },
  {
   "cell_type": "markdown",
   "execution_count": null,
   "metadata": {
    "colab_type": "text",
    "id": "4lQ7WO_JSMx_"
   },
   "outputs": [],
   "source": [
    "## Prepare data"
   ]
  },
  {
   "cell_type": "code",
   "execution_count": 5,
   "metadata": {},
   "outputs": [],
   "source": [
    "data = 'simulated_observational_data'\n",
    "# data = 'lalonde'\n",
    "\n",
    "if data == 'simulated_observational_data':\n",
    "    \"\"\"\n",
    "    # Generate simulated data\n",
    "    # \"Sleeping dogs\" (a.k.a. \"do-not-disturb\"; people who will \"buy\" if not \n",
    "    treated but will not \"buy\" if treated) can be simulated by negative values \n",
    "    in tau parameter.\n",
    "    # Observational data which includes confounding can be simulated by \n",
    "    non-zero values in propensity_coef parameter.  \n",
    "    # A/B Test (RCT) with a 50:50 split can be simulated by all-zeros values \n",
    "    in propensity_coef parameter (default).\n",
    "    # The first element in each list parameter specifies the intercept.\n",
    "    \"\"\"\n",
    "    from causallift import generate_data\n",
    "\n",
    "    df = generate_data( \\\n",
    "        N=1000, \n",
    "        n_features=3, \n",
    "        beta=[0,-2,3,-5], # Effect of [intercept and features] on outcome \n",
    "        error_std=0.1, \n",
    "        tau=[1,-5,-5,10], # Effect of [intercept and features] on treated outcome\n",
    "        tau_std=0.1, \n",
    "        discrete_outcome=True, \n",
    "        seed=seed, \n",
    "        feature_effect=0, # Effect of beta on treated outxome\n",
    "        propensity_coef=[0,-1,1,-1], # Effect of [intercept and features] on propensity log-odds for treatment\n",
    "        index_name='index')\n",
    "    \n",
    "if data == 'lalonde':\n",
    "    r\"\"\" \n",
    "        Lalonde dataset was used to evaluate propensity score in the paper:\n",
    "        Dehejia, R., & Wahba, S. (1999). Causal Effects in Nonexperimental \n",
    "        Studies: Reevaluating the Evaluation of Training Programs. Journal of \n",
    "        the American Statistical Association, 94(448), 1053-1062. \n",
    "        doi:10.2307/2669919\n",
    "\n",
    "        Lalonde dataset is now included in R package named \"Matching.\"\n",
    "        http://sekhon.berkeley.edu/matching/lalonde.html\n",
    "    \"\"\"\n",
    "    import numpy as np\n",
    "    \n",
    "    def get_lalonde():\n",
    "        r\"\"\" Load datasets, concatenate, and create features to get data frame \n",
    "        similar to 'lalonde' that comes with \"Matching.\")\n",
    "        \"\"\"\n",
    "        cols = ['treat', 'age', 'educ', 'black', 'hisp', 'married', 'nodegr','re74','re75','re78']\n",
    "        control_df = pd.read_csv('http://www.nber.org/~rdehejia/data/nswre74_control.txt', sep='\\s+', header = None, names = cols)\n",
    "        treated_df = pd.read_csv('http://www.nber.org/~rdehejia/data/nswre74_treated.txt', sep='\\s+', header = None, names = cols)\n",
    "        lalonde_df = pd.concat([control_df, treated_df], ignore_index=True)\n",
    "        lalonde_df['u74'] = np.where(lalonde_df['re74'] == 0, 1.0, 0.0)\n",
    "        lalonde_df['u75'] = np.where(lalonde_df['re75'] == 0, 1.0, 0.0)\n",
    "        return lalonde_df\n",
    "    lalonde_df = get_lalonde()\n",
    "    \n",
    "    \"\"\" Prepare the input Data Frame. \"\"\"\n",
    "    df = lalonde_df.copy()\n",
    "    df.rename(columns={'treat':'Treatment', 're78':'Outcome'}, inplace=True)\n",
    "    df['Outcome'] = np.where(df['Outcome'] > 0, 1.0, 0.0)\n",
    "    \n",
    "    # categorize age to 20s, 30s, 40s, and 50s and then one-hot encode age\n",
    "    df.loc[:,'age'] = df['age'].apply(lambda x:'{:.0f}'.format(x)[:-1]+'0s') \n",
    "    df = pd.get_dummies(df, columns=['age'], drop_first=True) \n",
    "    \n",
    "    cols = ['nodegr', 'black', 'hisp', 'age_20s', 'age_30s', 'age_40s', 'age_50s', \n",
    "            'educ', 'married', 'u74', 'u75', 'Treatment', 'Outcome']\n",
    "    df = df[cols]\n",
    "    \n",
    "    "
   ]
  },
  {
   "cell_type": "code",
   "execution_count": 6,
   "metadata": {},
   "outputs": [
    {
     "output_type": "execute_result",
     "data": {
      "text/plain": "       Feature_0  Feature_1  Feature_2  Treatment  Outcome\nindex                                                     \n0       0.548814   0.715189   0.602763        1.0      0.0\n1       0.544883   0.423655   0.645894        0.0      0.0\n2       0.437587   0.891773   0.963663        0.0      0.0\n3       0.383442   0.791725   0.528895        0.0      0.0\n...          ...        ...        ...        ...      ...\n996     0.774353   0.560374   0.082494        0.0      0.0\n997     0.475214   0.287293   0.879682        0.0      0.0\n998     0.284927   0.941687   0.546133        1.0      0.0\n999     0.323614   0.813545   0.697400        1.0      1.0\n\n[1000 rows x 5 columns]",
      "text/html": "<div>\n<style scoped>\n    .dataframe tbody tr th:only-of-type {\n        vertical-align: middle;\n    }\n\n    .dataframe tbody tr th {\n        vertical-align: top;\n    }\n\n    .dataframe thead th {\n        text-align: right;\n    }\n</style>\n<table border=\"1\" class=\"dataframe\">\n  <thead>\n    <tr style=\"text-align: right;\">\n      <th></th>\n      <th>Feature_0</th>\n      <th>Feature_1</th>\n      <th>Feature_2</th>\n      <th>Treatment</th>\n      <th>Outcome</th>\n    </tr>\n    <tr>\n      <th>index</th>\n      <th></th>\n      <th></th>\n      <th></th>\n      <th></th>\n      <th></th>\n    </tr>\n  </thead>\n  <tbody>\n    <tr>\n      <th>0</th>\n      <td>0.548814</td>\n      <td>0.715189</td>\n      <td>0.602763</td>\n      <td>1.0</td>\n      <td>0.0</td>\n    </tr>\n    <tr>\n      <th>1</th>\n      <td>0.544883</td>\n      <td>0.423655</td>\n      <td>0.645894</td>\n      <td>0.0</td>\n      <td>0.0</td>\n    </tr>\n    <tr>\n      <th>2</th>\n      <td>0.437587</td>\n      <td>0.891773</td>\n      <td>0.963663</td>\n      <td>0.0</td>\n      <td>0.0</td>\n    </tr>\n    <tr>\n      <th>3</th>\n      <td>0.383442</td>\n      <td>0.791725</td>\n      <td>0.528895</td>\n      <td>0.0</td>\n      <td>0.0</td>\n    </tr>\n    <tr>\n      <th>...</th>\n      <td>...</td>\n      <td>...</td>\n      <td>...</td>\n      <td>...</td>\n      <td>...</td>\n    </tr>\n    <tr>\n      <th>996</th>\n      <td>0.774353</td>\n      <td>0.560374</td>\n      <td>0.082494</td>\n      <td>0.0</td>\n      <td>0.0</td>\n    </tr>\n    <tr>\n      <th>997</th>\n      <td>0.475214</td>\n      <td>0.287293</td>\n      <td>0.879682</td>\n      <td>0.0</td>\n      <td>0.0</td>\n    </tr>\n    <tr>\n      <th>998</th>\n      <td>0.284927</td>\n      <td>0.941687</td>\n      <td>0.546133</td>\n      <td>1.0</td>\n      <td>0.0</td>\n    </tr>\n    <tr>\n      <th>999</th>\n      <td>0.323614</td>\n      <td>0.813545</td>\n      <td>0.697400</td>\n      <td>1.0</td>\n      <td>1.0</td>\n    </tr>\n  </tbody>\n</table>\n<p>1000 rows × 5 columns</p>\n</div>"
     },
     "metadata": {},
     "execution_count": 6
    }
   ],
   "source": [
    "df"
   ]
  },
  {
   "cell_type": "markdown",
   "execution_count": null,
   "metadata": {
    "colab_type": "text",
    "id": "Afzqayy6NziF"
   },
   "outputs": [],
   "source": [
    "## EDA"
   ]
  },
  {
   "cell_type": "code",
   "execution_count": 7,
   "metadata": {},
   "outputs": [
    {
     "output_type": "execute_result",
     "data": {
      "text/plain": "       Feature_0  Feature_1  Feature_2  Treatment  Outcome\nindex                                                     \n0       0.548814   0.715189   0.602763        1.0      0.0\n1       0.544883   0.423655   0.645894        0.0      0.0\n2       0.437587   0.891773   0.963663        0.0      0.0\n3       0.383442   0.791725   0.528895        0.0      0.0\n...          ...        ...        ...        ...      ...\n996     0.774353   0.560374   0.082494        0.0      0.0\n997     0.475214   0.287293   0.879682        0.0      0.0\n998     0.284927   0.941687   0.546133        1.0      0.0\n999     0.323614   0.813545   0.697400        1.0      1.0\n\n[1000 rows x 5 columns]",
      "text/html": "<div>\n<style scoped>\n    .dataframe tbody tr th:only-of-type {\n        vertical-align: middle;\n    }\n\n    .dataframe tbody tr th {\n        vertical-align: top;\n    }\n\n    .dataframe thead th {\n        text-align: right;\n    }\n</style>\n<table border=\"1\" class=\"dataframe\">\n  <thead>\n    <tr style=\"text-align: right;\">\n      <th></th>\n      <th>Feature_0</th>\n      <th>Feature_1</th>\n      <th>Feature_2</th>\n      <th>Treatment</th>\n      <th>Outcome</th>\n    </tr>\n    <tr>\n      <th>index</th>\n      <th></th>\n      <th></th>\n      <th></th>\n      <th></th>\n      <th></th>\n    </tr>\n  </thead>\n  <tbody>\n    <tr>\n      <th>0</th>\n      <td>0.548814</td>\n      <td>0.715189</td>\n      <td>0.602763</td>\n      <td>1.0</td>\n      <td>0.0</td>\n    </tr>\n    <tr>\n      <th>1</th>\n      <td>0.544883</td>\n      <td>0.423655</td>\n      <td>0.645894</td>\n      <td>0.0</td>\n      <td>0.0</td>\n    </tr>\n    <tr>\n      <th>2</th>\n      <td>0.437587</td>\n      <td>0.891773</td>\n      <td>0.963663</td>\n      <td>0.0</td>\n      <td>0.0</td>\n    </tr>\n    <tr>\n      <th>3</th>\n      <td>0.383442</td>\n      <td>0.791725</td>\n      <td>0.528895</td>\n      <td>0.0</td>\n      <td>0.0</td>\n    </tr>\n    <tr>\n      <th>...</th>\n      <td>...</td>\n      <td>...</td>\n      <td>...</td>\n      <td>...</td>\n      <td>...</td>\n    </tr>\n    <tr>\n      <th>996</th>\n      <td>0.774353</td>\n      <td>0.560374</td>\n      <td>0.082494</td>\n      <td>0.0</td>\n      <td>0.0</td>\n    </tr>\n    <tr>\n      <th>997</th>\n      <td>0.475214</td>\n      <td>0.287293</td>\n      <td>0.879682</td>\n      <td>0.0</td>\n      <td>0.0</td>\n    </tr>\n    <tr>\n      <th>998</th>\n      <td>0.284927</td>\n      <td>0.941687</td>\n      <td>0.546133</td>\n      <td>1.0</td>\n      <td>0.0</td>\n    </tr>\n    <tr>\n      <th>999</th>\n      <td>0.323614</td>\n      <td>0.813545</td>\n      <td>0.697400</td>\n      <td>1.0</td>\n      <td>1.0</td>\n    </tr>\n  </tbody>\n</table>\n<p>1000 rows × 5 columns</p>\n</div>"
     },
     "metadata": {},
     "execution_count": 7
    }
   ],
   "source": [
    "df"
   ]
  },
  {
   "cell_type": "code",
   "execution_count": 8,
   "metadata": {},
   "outputs": [
    {
     "output_type": "execute_result",
     "data": {
      "text/plain": "Treatment  0.0  1.0   All\nOutcome                  \n0.0        575  236   811\n1.0         48  141   189\nAll        623  377  1000",
      "text/html": "<div>\n<style scoped>\n    .dataframe tbody tr th:only-of-type {\n        vertical-align: middle;\n    }\n\n    .dataframe tbody tr th {\n        vertical-align: top;\n    }\n\n    .dataframe thead th {\n        text-align: right;\n    }\n</style>\n<table border=\"1\" class=\"dataframe\">\n  <thead>\n    <tr style=\"text-align: right;\">\n      <th>Treatment</th>\n      <th>0.0</th>\n      <th>1.0</th>\n      <th>All</th>\n    </tr>\n    <tr>\n      <th>Outcome</th>\n      <th></th>\n      <th></th>\n      <th></th>\n    </tr>\n  </thead>\n  <tbody>\n    <tr>\n      <th>0.0</th>\n      <td>575</td>\n      <td>236</td>\n      <td>811</td>\n    </tr>\n    <tr>\n      <th>1.0</th>\n      <td>48</td>\n      <td>141</td>\n      <td>189</td>\n    </tr>\n    <tr>\n      <th>All</th>\n      <td>623</td>\n      <td>377</td>\n      <td>1000</td>\n    </tr>\n  </tbody>\n</table>\n</div>"
     },
     "metadata": {},
     "execution_count": 8
    }
   ],
   "source": [
    "pd.crosstab(df['Outcome'], df['Treatment'], margins = True)"
   ]
  },
  {
   "cell_type": "code",
   "execution_count": 9,
   "metadata": {},
   "outputs": [
    {
     "output_type": "execute_result",
     "data": {
      "text/plain": "         Feature_0    Feature_1    Feature_2    Treatment      Outcome\ncount  1000.000000  1000.000000  1000.000000  1000.000000  1000.000000\nmean      0.505377     0.498557     0.508785     0.377000     0.189000\nstd       0.298402     0.291584     0.286888     0.484877     0.391705\nmin       0.000074     0.000367     0.000546     0.000000     0.000000\n25%       0.245889     0.259544     0.274155     0.000000     0.000000\n50%       0.504705     0.498307     0.499050     0.000000     0.000000\n75%       0.770974     0.756424     0.755279     1.000000     0.000000\nmax       0.998355     0.999964     0.999809     1.000000     1.000000",
      "text/html": "<div>\n<style scoped>\n    .dataframe tbody tr th:only-of-type {\n        vertical-align: middle;\n    }\n\n    .dataframe tbody tr th {\n        vertical-align: top;\n    }\n\n    .dataframe thead th {\n        text-align: right;\n    }\n</style>\n<table border=\"1\" class=\"dataframe\">\n  <thead>\n    <tr style=\"text-align: right;\">\n      <th></th>\n      <th>Feature_0</th>\n      <th>Feature_1</th>\n      <th>Feature_2</th>\n      <th>Treatment</th>\n      <th>Outcome</th>\n    </tr>\n  </thead>\n  <tbody>\n    <tr>\n      <th>count</th>\n      <td>1000.000000</td>\n      <td>1000.000000</td>\n      <td>1000.000000</td>\n      <td>1000.000000</td>\n      <td>1000.000000</td>\n    </tr>\n    <tr>\n      <th>mean</th>\n      <td>0.505377</td>\n      <td>0.498557</td>\n      <td>0.508785</td>\n      <td>0.377000</td>\n      <td>0.189000</td>\n    </tr>\n    <tr>\n      <th>std</th>\n      <td>0.298402</td>\n      <td>0.291584</td>\n      <td>0.286888</td>\n      <td>0.484877</td>\n      <td>0.391705</td>\n    </tr>\n    <tr>\n      <th>min</th>\n      <td>0.000074</td>\n      <td>0.000367</td>\n      <td>0.000546</td>\n      <td>0.000000</td>\n      <td>0.000000</td>\n    </tr>\n    <tr>\n      <th>25%</th>\n      <td>0.245889</td>\n      <td>0.259544</td>\n      <td>0.274155</td>\n      <td>0.000000</td>\n      <td>0.000000</td>\n    </tr>\n    <tr>\n      <th>50%</th>\n      <td>0.504705</td>\n      <td>0.498307</td>\n      <td>0.499050</td>\n      <td>0.000000</td>\n      <td>0.000000</td>\n    </tr>\n    <tr>\n      <th>75%</th>\n      <td>0.770974</td>\n      <td>0.756424</td>\n      <td>0.755279</td>\n      <td>1.000000</td>\n      <td>0.000000</td>\n    </tr>\n    <tr>\n      <th>max</th>\n      <td>0.998355</td>\n      <td>0.999964</td>\n      <td>0.999809</td>\n      <td>1.000000</td>\n      <td>1.000000</td>\n    </tr>\n  </tbody>\n</table>\n</div>"
     },
     "metadata": {},
     "execution_count": 9
    }
   ],
   "source": [
    "df.describe()"
   ]
  },
  {
   "cell_type": "code",
   "execution_count": 10,
   "metadata": {},
   "outputs": [
    {
     "output_type": "execute_result",
     "data": {
      "text/plain": "           Feature_0  Feature_1  Feature_2  Treatment   Outcome\nFeature_0   1.000000   0.015490   0.066867  -0.168785 -0.422922\nFeature_1   0.015490   1.000000   0.030081   0.142777  0.052125\nFeature_2   0.066867   0.030081   1.000000  -0.210067 -0.045110\nTreatment  -0.168785   0.142777  -0.210067   1.000000  0.367595\nOutcome    -0.422922   0.052125  -0.045110   0.367595  1.000000",
      "text/html": "<div>\n<style scoped>\n    .dataframe tbody tr th:only-of-type {\n        vertical-align: middle;\n    }\n\n    .dataframe tbody tr th {\n        vertical-align: top;\n    }\n\n    .dataframe thead th {\n        text-align: right;\n    }\n</style>\n<table border=\"1\" class=\"dataframe\">\n  <thead>\n    <tr style=\"text-align: right;\">\n      <th></th>\n      <th>Feature_0</th>\n      <th>Feature_1</th>\n      <th>Feature_2</th>\n      <th>Treatment</th>\n      <th>Outcome</th>\n    </tr>\n  </thead>\n  <tbody>\n    <tr>\n      <th>Feature_0</th>\n      <td>1.000000</td>\n      <td>0.015490</td>\n      <td>0.066867</td>\n      <td>-0.168785</td>\n      <td>-0.422922</td>\n    </tr>\n    <tr>\n      <th>Feature_1</th>\n      <td>0.015490</td>\n      <td>1.000000</td>\n      <td>0.030081</td>\n      <td>0.142777</td>\n      <td>0.052125</td>\n    </tr>\n    <tr>\n      <th>Feature_2</th>\n      <td>0.066867</td>\n      <td>0.030081</td>\n      <td>1.000000</td>\n      <td>-0.210067</td>\n      <td>-0.045110</td>\n    </tr>\n    <tr>\n      <th>Treatment</th>\n      <td>-0.168785</td>\n      <td>0.142777</td>\n      <td>-0.210067</td>\n      <td>1.000000</td>\n      <td>0.367595</td>\n    </tr>\n    <tr>\n      <th>Outcome</th>\n      <td>-0.422922</td>\n      <td>0.052125</td>\n      <td>-0.045110</td>\n      <td>0.367595</td>\n      <td>1.000000</td>\n    </tr>\n  </tbody>\n</table>\n</div>"
     },
     "metadata": {},
     "execution_count": 10
    }
   ],
   "source": [
    "df.corr()"
   ]
  },
  {
   "cell_type": "markdown",
   "execution_count": null,
   "metadata": {
    "colab_type": "text",
    "id": "LAjxUqtINziW"
   },
   "outputs": [],
   "source": [
    "## Split to train and test"
   ]
  },
  {
   "cell_type": "code",
   "execution_count": 11,
   "metadata": {},
   "outputs": [],
   "source": [
    "train_df, test_df = train_test_split(df, test_size=0.2, random_state=seed, stratify=df['Treatment'])"
   ]
  },
  {
   "cell_type": "markdown",
   "execution_count": null,
   "metadata": {
    "colab_type": "text",
    "id": "icQQO5J-dHPP"
   },
   "outputs": [],
   "source": [
    "## Run Uplift modeling"
   ]
  },
  {
   "cell_type": "code",
   "execution_count": 12,
   "metadata": {},
   "outputs": [
    {
     "output_type": "stream",
     "name": "stdout",
     "text": "\n[Estimate propensity scores for Inverse Probability Weighting.]\n[2020-04-04 01:12:32,934|causallift.context.flexible_context|INFO] Run pipeline (tags: ['011_bundle_train_and_test_data'], SequentialRunner, only_missing: False)\n[2020-04-04 01:12:32,950|kedro.pipeline.node|INFO] Running node: bundle_train_and_test_data([args_raw,test_df,train_df]) -> [df_00]\n[2020-04-04 01:12:32,956|kedro.runner.sequential_runner|INFO] Completed 1 out of 1 tasks\n[2020-04-04 01:12:32,958|kedro.runner.sequential_runner|INFO] Pipeline execution completed successfully.\n[2020-04-04 01:12:32,960|causallift.context.flexible_context|INFO] Run pipeline (tags: ['121_prepare_args', '131_treatment_fractions_', '141_initialize_model'], SequentialRunner, only_missing: False)\n[2020-04-04 01:12:32,973|kedro.pipeline.node|INFO] Running node: impute_cols_features([args_raw,df_00]) -> [args_intermediate]\n[2020-04-04 01:12:32,975|kedro.runner.sequential_runner|INFO] Completed 1 out of 3 tasks\n[2020-04-04 01:12:32,978|kedro.pipeline.node|INFO] Running node: treatment_fractions_([args_raw,df_00]) -> [treatment_fractions]\n[2020-04-04 01:12:32,988|numexpr.utils|INFO] NumExpr defaulting to 4 threads.\n[2020-04-04 01:12:33,005|kedro.runner.sequential_runner|INFO] Completed 2 out of 3 tasks\n[2020-04-04 01:12:33,008|kedro.pipeline.node|INFO] Running node: schedule_propensity_scoring([args_intermediate,df_00]) -> [args]\n[2020-04-04 01:12:33,012|kedro.runner.sequential_runner|INFO] Completed 3 out of 3 tasks\n[2020-04-04 01:12:33,013|kedro.runner.sequential_runner|INFO] Pipeline execution completed successfully.\n[2020-04-04 01:12:33,019|causallift.context.flexible_context|INFO] Run pipeline (tags: ['211_fit_propensity'], SequentialRunner, only_missing: False)\n[2020-04-04 01:12:33,034|kedro.pipeline.node|INFO] Running node: fit_propensity([args,df_00]) -> [propensity_model]\n[2020-04-04 01:12:33,040|causallift.nodes.estimate_propensity|INFO] ## Propensity scores will be estimated by logistic regression.\n[2020-04-04 01:12:33,042|causallift.nodes.estimate_propensity|INFO] ### Parameters for grid search of Logistic regression:\n{'search_cv': 'sklearn.model_selection.GridSearchCV', 'estimator': 'sklearn.linear_model.LogisticRegression', 'scoring': None, 'cv': 3, 'return_train_score': False, 'n_jobs': -1, 'param_grid': {'random_state': [0], 'C': [0.1, 1, 10], 'class_weight': [None], 'dual': [False], 'fit_intercept': [True], 'intercept_scaling': [1], 'max_iter': [100], 'multi_class': ['ovr'], 'n_jobs': [1], 'penalty': ['l1', 'l2'], 'solver': ['liblinear'], 'tol': [0.0001], 'warm_start': [False]}}\n[2020-04-04 01:12:34,207|causallift.nodes.estimate_propensity|INFO] ### Best parameter for logistic regression:\n{'C': 1, 'class_weight': None, 'dual': False, 'fit_intercept': True, 'intercept_scaling': 1, 'l1_ratio': None, 'max_iter': 100, 'multi_class': 'ovr', 'n_jobs': 1, 'penalty': 'l1', 'random_state': 0, 'solver': 'liblinear', 'tol': 0.0001, 'verbose': 0, 'warm_start': False}\n[2020-04-04 01:12:34,210|causallift.nodes.estimate_propensity|INFO] \n## Coefficients of logistic regression:\n"
    },
    {
     "output_type": "display_data",
     "data": {
      "text/plain": "             Feature_0  Feature_1  Feature_2\ncoefficient  -1.014672   1.245857   -1.43388",
      "text/html": "<div>\n<style scoped>\n    .dataframe tbody tr th:only-of-type {\n        vertical-align: middle;\n    }\n\n    .dataframe tbody tr th {\n        vertical-align: top;\n    }\n\n    .dataframe thead th {\n        text-align: right;\n    }\n</style>\n<table border=\"1\" class=\"dataframe\">\n  <thead>\n    <tr style=\"text-align: right;\">\n      <th></th>\n      <th>Feature_0</th>\n      <th>Feature_1</th>\n      <th>Feature_2</th>\n    </tr>\n  </thead>\n  <tbody>\n    <tr>\n      <th>coefficient</th>\n      <td>-1.014672</td>\n      <td>1.245857</td>\n      <td>-1.43388</td>\n    </tr>\n  </tbody>\n</table>\n</div>"
     },
     "metadata": {}
    },
    {
     "output_type": "stream",
     "name": "stdout",
     "text": "[2020-04-04 01:12:34,267|kedro.runner.sequential_runner|INFO] Completed 1 out of 1 tasks\n[2020-04-04 01:12:34,274|kedro.runner.sequential_runner|INFO] Pipeline execution completed successfully.\n[2020-04-04 01:12:34,281|causallift.context.flexible_context|INFO] Run pipeline (tags: ['221_estimate_propensity'], SequentialRunner, only_missing: False)\n[2020-04-04 01:12:34,303|kedro.pipeline.node|INFO] Running node: estimate_propensity([args,df_00,propensity_model]) -> [df_01]\n[2020-04-04 01:12:34,321|causallift.nodes.estimate_propensity|INFO] \n### Histogram of propensity score for train and test data:\n"
    },
    {
     "output_type": "display_data",
     "data": {
      "text/plain": "<Figure size 432x288 with 1 Axes>",
      "image/svg+xml": "<?xml version=\"1.0\" encoding=\"utf-8\" standalone=\"no\"?>\n<!DOCTYPE svg PUBLIC \"-//W3C//DTD SVG 1.1//EN\"\n  \"http://www.w3.org/Graphics/SVG/1.1/DTD/svg11.dtd\">\n<!-- Created with matplotlib (https://matplotlib.org/) -->\n<svg height=\"248.518125pt\" version=\"1.1\" viewBox=\"0 0 375.2875 248.518125\" width=\"375.2875pt\" xmlns=\"http://www.w3.org/2000/svg\" xmlns:xlink=\"http://www.w3.org/1999/xlink\">\n <defs>\n  <style type=\"text/css\">\n*{stroke-linecap:butt;stroke-linejoin:round;}\n  </style>\n </defs>\n <g id=\"figure_1\">\n  <g id=\"patch_1\">\n   <path d=\"M 0 248.518125 \nL 375.2875 248.518125 \nL 375.2875 0 \nL 0 0 \nz\n\" style=\"fill:none;\"/>\n  </g>\n  <g id=\"axes_1\">\n   <g id=\"patch_2\">\n    <path d=\"M 33.2875 224.64 \nL 368.0875 224.64 \nL 368.0875 7.2 \nL 33.2875 7.2 \nz\n\" style=\"fill:#ffffff;\"/>\n   </g>\n   <g id=\"patch_3\">\n    <path clip-path=\"url(#p4107b8b613)\" d=\"M 48.505682 224.64 \nL 78.606946 224.64 \nL 78.606946 169.222696 \nL 48.505682 169.222696 \nz\n\" style=\"fill:#1f77b4;\"/>\n   </g>\n   <g id=\"patch_4\">\n    <path clip-path=\"url(#p4107b8b613)\" d=\"M 78.606946 224.64 \nL 108.70821 224.64 \nL 108.70821 81.72169 \nL 78.606946 81.72169 \nz\n\" style=\"fill:#1f77b4;\"/>\n   </g>\n   <g id=\"patch_5\">\n    <path clip-path=\"url(#p4107b8b613)\" d=\"M 108.70821 224.64 \nL 138.809474 224.64 \nL 138.809474 55.471388 \nL 108.70821 55.471388 \nz\n\" style=\"fill:#1f77b4;\"/>\n   </g>\n   <g id=\"patch_6\">\n    <path clip-path=\"url(#p4107b8b613)\" d=\"M 138.809474 224.64 \nL 168.910738 224.64 \nL 168.910738 17.554286 \nL 138.809474 17.554286 \nz\n\" style=\"fill:#1f77b4;\"/>\n   </g>\n   <g id=\"patch_7\">\n    <path clip-path=\"url(#p4107b8b613)\" d=\"M 168.910738 224.64 \nL 199.012001 224.64 \nL 199.012001 56.929738 \nL 168.910738 56.929738 \nz\n\" style=\"fill:#1f77b4;\"/>\n   </g>\n   <g id=\"patch_8\">\n    <path clip-path=\"url(#p4107b8b613)\" d=\"M 199.012001 224.64 \nL 229.113265 224.64 \nL 229.113265 56.929738 \nL 199.012001 56.929738 \nz\n\" style=\"fill:#1f77b4;\"/>\n   </g>\n   <g id=\"patch_9\">\n    <path clip-path=\"url(#p4107b8b613)\" d=\"M 229.113265 224.64 \nL 259.214529 224.64 \nL 259.214529 102.138592 \nL 229.113265 102.138592 \nz\n\" style=\"fill:#1f77b4;\"/>\n   </g>\n   <g id=\"patch_10\">\n    <path clip-path=\"url(#p4107b8b613)\" d=\"M 259.214529 224.64 \nL 289.315793 224.64 \nL 289.315793 142.972394 \nL 259.214529 142.972394 \nz\n\" style=\"fill:#1f77b4;\"/>\n   </g>\n   <g id=\"patch_11\">\n    <path clip-path=\"url(#p4107b8b613)\" d=\"M 289.315793 224.64 \nL 319.417057 224.64 \nL 319.417057 188.181247 \nL 289.315793 188.181247 \nz\n\" style=\"fill:#1f77b4;\"/>\n   </g>\n   <g id=\"patch_12\">\n    <path clip-path=\"url(#p4107b8b613)\" d=\"M 319.417057 224.64 \nL 349.518321 224.64 \nL 349.518321 208.598149 \nL 319.417057 208.598149 \nz\n\" style=\"fill:#1f77b4;\"/>\n   </g>\n   <g id=\"patch_13\">\n    <path clip-path=\"url(#p4107b8b613)\" d=\"M 60.520204 224.64 \nL 89.755116 224.64 \nL 89.755116 207.139799 \nL 60.520204 207.139799 \nz\n\" style=\"fill:#ff7f0e;\"/>\n   </g>\n   <g id=\"patch_14\">\n    <path clip-path=\"url(#p4107b8b613)\" d=\"M 89.755116 224.64 \nL 118.990027 224.64 \nL 118.990027 186.722897 \nL 89.755116 186.722897 \nz\n\" style=\"fill:#ff7f0e;\"/>\n   </g>\n   <g id=\"patch_15\">\n    <path clip-path=\"url(#p4107b8b613)\" d=\"M 118.990027 224.64 \nL 148.224938 224.64 \nL 148.224938 175.056097 \nL 118.990027 175.056097 \nz\n\" style=\"fill:#ff7f0e;\"/>\n   </g>\n   <g id=\"patch_16\">\n    <path clip-path=\"url(#p4107b8b613)\" d=\"M 148.224938 224.64 \nL 177.45985 224.64 \nL 177.45985 176.514447 \nL 148.224938 176.514447 \nz\n\" style=\"fill:#ff7f0e;\"/>\n   </g>\n   <g id=\"patch_17\">\n    <path clip-path=\"url(#p4107b8b613)\" d=\"M 177.45985 224.64 \nL 206.694761 224.64 \nL 206.694761 177.972797 \nL 177.45985 177.972797 \nz\n\" style=\"fill:#ff7f0e;\"/>\n   </g>\n   <g id=\"patch_18\">\n    <path clip-path=\"url(#p4107b8b613)\" d=\"M 206.694761 224.64 \nL 235.929673 224.64 \nL 235.929673 194.014648 \nL 206.694761 194.014648 \nz\n\" style=\"fill:#ff7f0e;\"/>\n   </g>\n   <g id=\"patch_19\">\n    <path clip-path=\"url(#p4107b8b613)\" d=\"M 235.929673 224.64 \nL 265.164584 224.64 \nL 265.164584 196.931348 \nL 235.929673 196.931348 \nz\n\" style=\"fill:#ff7f0e;\"/>\n   </g>\n   <g id=\"patch_20\">\n    <path clip-path=\"url(#p4107b8b613)\" d=\"M 265.164584 224.64 \nL 294.399495 224.64 \nL 294.399495 204.223099 \nL 265.164584 204.223099 \nz\n\" style=\"fill:#ff7f0e;\"/>\n   </g>\n   <g id=\"patch_21\">\n    <path clip-path=\"url(#p4107b8b613)\" d=\"M 294.399495 224.64 \nL 323.634407 224.64 \nL 323.634407 215.889899 \nL 294.399495 215.889899 \nz\n\" style=\"fill:#ff7f0e;\"/>\n   </g>\n   <g id=\"patch_22\">\n    <path clip-path=\"url(#p4107b8b613)\" d=\"M 323.634407 224.64 \nL 352.869318 224.64 \nL 352.869318 220.26495 \nL 323.634407 220.26495 \nz\n\" style=\"fill:#ff7f0e;\"/>\n   </g>\n   <g id=\"matplotlib.axis_1\">\n    <g id=\"xtick_1\">\n     <g id=\"line2d_1\">\n      <path clip-path=\"url(#p4107b8b613)\" d=\"M 48.016759 224.64 \nL 48.016759 7.2 \n\" style=\"fill:none;stroke:#b0b0b0;stroke-linecap:square;stroke-width:0.8;\"/>\n     </g>\n     <g id=\"line2d_2\">\n      <defs>\n       <path d=\"M 0 0 \nL 0 3.5 \n\" id=\"m66496f496e\" style=\"stroke:#000000;stroke-width:0.8;\"/>\n      </defs>\n      <g>\n       <use style=\"stroke:#000000;stroke-width:0.8;\" x=\"48.016759\" xlink:href=\"#m66496f496e\" y=\"224.64\"/>\n      </g>\n     </g>\n     <g id=\"text_1\">\n      <!-- 0.1 -->\n      <defs>\n       <path d=\"M 31.78125 66.40625 \nQ 24.171875 66.40625 20.328125 58.90625 \nQ 16.5 51.421875 16.5 36.375 \nQ 16.5 21.390625 20.328125 13.890625 \nQ 24.171875 6.390625 31.78125 6.390625 \nQ 39.453125 6.390625 43.28125 13.890625 \nQ 47.125 21.390625 47.125 36.375 \nQ 47.125 51.421875 43.28125 58.90625 \nQ 39.453125 66.40625 31.78125 66.40625 \nz\nM 31.78125 74.21875 \nQ 44.046875 74.21875 50.515625 64.515625 \nQ 56.984375 54.828125 56.984375 36.375 \nQ 56.984375 17.96875 50.515625 8.265625 \nQ 44.046875 -1.421875 31.78125 -1.421875 \nQ 19.53125 -1.421875 13.0625 8.265625 \nQ 6.59375 17.96875 6.59375 36.375 \nQ 6.59375 54.828125 13.0625 64.515625 \nQ 19.53125 74.21875 31.78125 74.21875 \nz\n\" id=\"DejaVuSans-48\"/>\n       <path d=\"M 10.6875 12.40625 \nL 21 12.40625 \nL 21 0 \nL 10.6875 0 \nz\n\" id=\"DejaVuSans-46\"/>\n       <path d=\"M 12.40625 8.296875 \nL 28.515625 8.296875 \nL 28.515625 63.921875 \nL 10.984375 60.40625 \nL 10.984375 69.390625 \nL 28.421875 72.90625 \nL 38.28125 72.90625 \nL 38.28125 8.296875 \nL 54.390625 8.296875 \nL 54.390625 0 \nL 12.40625 0 \nz\n\" id=\"DejaVuSans-49\"/>\n      </defs>\n      <g transform=\"translate(40.065196 239.238437)scale(0.1 -0.1)\">\n       <use xlink:href=\"#DejaVuSans-48\"/>\n       <use x=\"63.623047\" xlink:href=\"#DejaVuSans-46\"/>\n       <use x=\"95.410156\" xlink:href=\"#DejaVuSans-49\"/>\n      </g>\n     </g>\n    </g>\n    <g id=\"xtick_2\">\n     <g id=\"line2d_3\">\n      <path clip-path=\"url(#p4107b8b613)\" d=\"M 94.453754 224.64 \nL 94.453754 7.2 \n\" style=\"fill:none;stroke:#b0b0b0;stroke-linecap:square;stroke-width:0.8;\"/>\n     </g>\n     <g id=\"line2d_4\">\n      <g>\n       <use style=\"stroke:#000000;stroke-width:0.8;\" x=\"94.453754\" xlink:href=\"#m66496f496e\" y=\"224.64\"/>\n      </g>\n     </g>\n     <g id=\"text_2\">\n      <!-- 0.2 -->\n      <defs>\n       <path d=\"M 19.1875 8.296875 \nL 53.609375 8.296875 \nL 53.609375 0 \nL 7.328125 0 \nL 7.328125 8.296875 \nQ 12.9375 14.109375 22.625 23.890625 \nQ 32.328125 33.6875 34.8125 36.53125 \nQ 39.546875 41.84375 41.421875 45.53125 \nQ 43.3125 49.21875 43.3125 52.78125 \nQ 43.3125 58.59375 39.234375 62.25 \nQ 35.15625 65.921875 28.609375 65.921875 \nQ 23.96875 65.921875 18.8125 64.3125 \nQ 13.671875 62.703125 7.8125 59.421875 \nL 7.8125 69.390625 \nQ 13.765625 71.78125 18.9375 73 \nQ 24.125 74.21875 28.421875 74.21875 \nQ 39.75 74.21875 46.484375 68.546875 \nQ 53.21875 62.890625 53.21875 53.421875 \nQ 53.21875 48.921875 51.53125 44.890625 \nQ 49.859375 40.875 45.40625 35.40625 \nQ 44.1875 33.984375 37.640625 27.21875 \nQ 31.109375 20.453125 19.1875 8.296875 \nz\n\" id=\"DejaVuSans-50\"/>\n      </defs>\n      <g transform=\"translate(86.502192 239.238437)scale(0.1 -0.1)\">\n       <use xlink:href=\"#DejaVuSans-48\"/>\n       <use x=\"63.623047\" xlink:href=\"#DejaVuSans-46\"/>\n       <use x=\"95.410156\" xlink:href=\"#DejaVuSans-50\"/>\n      </g>\n     </g>\n    </g>\n    <g id=\"xtick_3\">\n     <g id=\"line2d_5\">\n      <path clip-path=\"url(#p4107b8b613)\" d=\"M 140.89075 224.64 \nL 140.89075 7.2 \n\" style=\"fill:none;stroke:#b0b0b0;stroke-linecap:square;stroke-width:0.8;\"/>\n     </g>\n     <g id=\"line2d_6\">\n      <g>\n       <use style=\"stroke:#000000;stroke-width:0.8;\" x=\"140.89075\" xlink:href=\"#m66496f496e\" y=\"224.64\"/>\n      </g>\n     </g>\n     <g id=\"text_3\">\n      <!-- 0.3 -->\n      <defs>\n       <path d=\"M 40.578125 39.3125 \nQ 47.65625 37.796875 51.625 33 \nQ 55.609375 28.21875 55.609375 21.1875 \nQ 55.609375 10.40625 48.1875 4.484375 \nQ 40.765625 -1.421875 27.09375 -1.421875 \nQ 22.515625 -1.421875 17.65625 -0.515625 \nQ 12.796875 0.390625 7.625 2.203125 \nL 7.625 11.71875 \nQ 11.71875 9.328125 16.59375 8.109375 \nQ 21.484375 6.890625 26.8125 6.890625 \nQ 36.078125 6.890625 40.9375 10.546875 \nQ 45.796875 14.203125 45.796875 21.1875 \nQ 45.796875 27.640625 41.28125 31.265625 \nQ 36.765625 34.90625 28.71875 34.90625 \nL 20.21875 34.90625 \nL 20.21875 43.015625 \nL 29.109375 43.015625 \nQ 36.375 43.015625 40.234375 45.921875 \nQ 44.09375 48.828125 44.09375 54.296875 \nQ 44.09375 59.90625 40.109375 62.90625 \nQ 36.140625 65.921875 28.71875 65.921875 \nQ 24.65625 65.921875 20.015625 65.03125 \nQ 15.375 64.15625 9.8125 62.3125 \nL 9.8125 71.09375 \nQ 15.4375 72.65625 20.34375 73.4375 \nQ 25.25 74.21875 29.59375 74.21875 \nQ 40.828125 74.21875 47.359375 69.109375 \nQ 53.90625 64.015625 53.90625 55.328125 \nQ 53.90625 49.265625 50.4375 45.09375 \nQ 46.96875 40.921875 40.578125 39.3125 \nz\n\" id=\"DejaVuSans-51\"/>\n      </defs>\n      <g transform=\"translate(132.939187 239.238437)scale(0.1 -0.1)\">\n       <use xlink:href=\"#DejaVuSans-48\"/>\n       <use x=\"63.623047\" xlink:href=\"#DejaVuSans-46\"/>\n       <use x=\"95.410156\" xlink:href=\"#DejaVuSans-51\"/>\n      </g>\n     </g>\n    </g>\n    <g id=\"xtick_4\">\n     <g id=\"line2d_7\">\n      <path clip-path=\"url(#p4107b8b613)\" d=\"M 187.327746 224.64 \nL 187.327746 7.2 \n\" style=\"fill:none;stroke:#b0b0b0;stroke-linecap:square;stroke-width:0.8;\"/>\n     </g>\n     <g id=\"line2d_8\">\n      <g>\n       <use style=\"stroke:#000000;stroke-width:0.8;\" x=\"187.327746\" xlink:href=\"#m66496f496e\" y=\"224.64\"/>\n      </g>\n     </g>\n     <g id=\"text_4\">\n      <!-- 0.4 -->\n      <defs>\n       <path d=\"M 37.796875 64.3125 \nL 12.890625 25.390625 \nL 37.796875 25.390625 \nz\nM 35.203125 72.90625 \nL 47.609375 72.90625 \nL 47.609375 25.390625 \nL 58.015625 25.390625 \nL 58.015625 17.1875 \nL 47.609375 17.1875 \nL 47.609375 0 \nL 37.796875 0 \nL 37.796875 17.1875 \nL 4.890625 17.1875 \nL 4.890625 26.703125 \nz\n\" id=\"DejaVuSans-52\"/>\n      </defs>\n      <g transform=\"translate(179.376183 239.238437)scale(0.1 -0.1)\">\n       <use xlink:href=\"#DejaVuSans-48\"/>\n       <use x=\"63.623047\" xlink:href=\"#DejaVuSans-46\"/>\n       <use x=\"95.410156\" xlink:href=\"#DejaVuSans-52\"/>\n      </g>\n     </g>\n    </g>\n    <g id=\"xtick_5\">\n     <g id=\"line2d_9\">\n      <path clip-path=\"url(#p4107b8b613)\" d=\"M 233.764741 224.64 \nL 233.764741 7.2 \n\" style=\"fill:none;stroke:#b0b0b0;stroke-linecap:square;stroke-width:0.8;\"/>\n     </g>\n     <g id=\"line2d_10\">\n      <g>\n       <use style=\"stroke:#000000;stroke-width:0.8;\" x=\"233.764741\" xlink:href=\"#m66496f496e\" y=\"224.64\"/>\n      </g>\n     </g>\n     <g id=\"text_5\">\n      <!-- 0.5 -->\n      <defs>\n       <path d=\"M 10.796875 72.90625 \nL 49.515625 72.90625 \nL 49.515625 64.59375 \nL 19.828125 64.59375 \nL 19.828125 46.734375 \nQ 21.96875 47.46875 24.109375 47.828125 \nQ 26.265625 48.1875 28.421875 48.1875 \nQ 40.625 48.1875 47.75 41.5 \nQ 54.890625 34.8125 54.890625 23.390625 \nQ 54.890625 11.625 47.5625 5.09375 \nQ 40.234375 -1.421875 26.90625 -1.421875 \nQ 22.3125 -1.421875 17.546875 -0.640625 \nQ 12.796875 0.140625 7.71875 1.703125 \nL 7.71875 11.625 \nQ 12.109375 9.234375 16.796875 8.0625 \nQ 21.484375 6.890625 26.703125 6.890625 \nQ 35.15625 6.890625 40.078125 11.328125 \nQ 45.015625 15.765625 45.015625 23.390625 \nQ 45.015625 31 40.078125 35.4375 \nQ 35.15625 39.890625 26.703125 39.890625 \nQ 22.75 39.890625 18.8125 39.015625 \nQ 14.890625 38.140625 10.796875 36.28125 \nz\n\" id=\"DejaVuSans-53\"/>\n      </defs>\n      <g transform=\"translate(225.813179 239.238437)scale(0.1 -0.1)\">\n       <use xlink:href=\"#DejaVuSans-48\"/>\n       <use x=\"63.623047\" xlink:href=\"#DejaVuSans-46\"/>\n       <use x=\"95.410156\" xlink:href=\"#DejaVuSans-53\"/>\n      </g>\n     </g>\n    </g>\n    <g id=\"xtick_6\">\n     <g id=\"line2d_11\">\n      <path clip-path=\"url(#p4107b8b613)\" d=\"M 280.201737 224.64 \nL 280.201737 7.2 \n\" style=\"fill:none;stroke:#b0b0b0;stroke-linecap:square;stroke-width:0.8;\"/>\n     </g>\n     <g id=\"line2d_12\">\n      <g>\n       <use style=\"stroke:#000000;stroke-width:0.8;\" x=\"280.201737\" xlink:href=\"#m66496f496e\" y=\"224.64\"/>\n      </g>\n     </g>\n     <g id=\"text_6\">\n      <!-- 0.6 -->\n      <defs>\n       <path d=\"M 33.015625 40.375 \nQ 26.375 40.375 22.484375 35.828125 \nQ 18.609375 31.296875 18.609375 23.390625 \nQ 18.609375 15.53125 22.484375 10.953125 \nQ 26.375 6.390625 33.015625 6.390625 \nQ 39.65625 6.390625 43.53125 10.953125 \nQ 47.40625 15.53125 47.40625 23.390625 \nQ 47.40625 31.296875 43.53125 35.828125 \nQ 39.65625 40.375 33.015625 40.375 \nz\nM 52.59375 71.296875 \nL 52.59375 62.3125 \nQ 48.875 64.0625 45.09375 64.984375 \nQ 41.3125 65.921875 37.59375 65.921875 \nQ 27.828125 65.921875 22.671875 59.328125 \nQ 17.53125 52.734375 16.796875 39.40625 \nQ 19.671875 43.65625 24.015625 45.921875 \nQ 28.375 48.1875 33.59375 48.1875 \nQ 44.578125 48.1875 50.953125 41.515625 \nQ 57.328125 34.859375 57.328125 23.390625 \nQ 57.328125 12.15625 50.6875 5.359375 \nQ 44.046875 -1.421875 33.015625 -1.421875 \nQ 20.359375 -1.421875 13.671875 8.265625 \nQ 6.984375 17.96875 6.984375 36.375 \nQ 6.984375 53.65625 15.1875 63.9375 \nQ 23.390625 74.21875 37.203125 74.21875 \nQ 40.921875 74.21875 44.703125 73.484375 \nQ 48.484375 72.75 52.59375 71.296875 \nz\n\" id=\"DejaVuSans-54\"/>\n      </defs>\n      <g transform=\"translate(272.250174 239.238437)scale(0.1 -0.1)\">\n       <use xlink:href=\"#DejaVuSans-48\"/>\n       <use x=\"63.623047\" xlink:href=\"#DejaVuSans-46\"/>\n       <use x=\"95.410156\" xlink:href=\"#DejaVuSans-54\"/>\n      </g>\n     </g>\n    </g>\n    <g id=\"xtick_7\">\n     <g id=\"line2d_13\">\n      <path clip-path=\"url(#p4107b8b613)\" d=\"M 326.638733 224.64 \nL 326.638733 7.2 \n\" style=\"fill:none;stroke:#b0b0b0;stroke-linecap:square;stroke-width:0.8;\"/>\n     </g>\n     <g id=\"line2d_14\">\n      <g>\n       <use style=\"stroke:#000000;stroke-width:0.8;\" x=\"326.638733\" xlink:href=\"#m66496f496e\" y=\"224.64\"/>\n      </g>\n     </g>\n     <g id=\"text_7\">\n      <!-- 0.7 -->\n      <defs>\n       <path d=\"M 8.203125 72.90625 \nL 55.078125 72.90625 \nL 55.078125 68.703125 \nL 28.609375 0 \nL 18.3125 0 \nL 43.21875 64.59375 \nL 8.203125 64.59375 \nz\n\" id=\"DejaVuSans-55\"/>\n      </defs>\n      <g transform=\"translate(318.68717 239.238437)scale(0.1 -0.1)\">\n       <use xlink:href=\"#DejaVuSans-48\"/>\n       <use x=\"63.623047\" xlink:href=\"#DejaVuSans-46\"/>\n       <use x=\"95.410156\" xlink:href=\"#DejaVuSans-55\"/>\n      </g>\n     </g>\n    </g>\n   </g>\n   <g id=\"matplotlib.axis_2\">\n    <g id=\"ytick_1\">\n     <g id=\"line2d_15\">\n      <path clip-path=\"url(#p4107b8b613)\" d=\"M 33.2875 224.64 \nL 368.0875 224.64 \n\" style=\"fill:none;stroke:#b0b0b0;stroke-linecap:square;stroke-width:0.8;\"/>\n     </g>\n     <g id=\"line2d_16\">\n      <defs>\n       <path d=\"M 0 0 \nL -3.5 0 \n\" id=\"m51e9d3da2a\" style=\"stroke:#000000;stroke-width:0.8;\"/>\n      </defs>\n      <g>\n       <use style=\"stroke:#000000;stroke-width:0.8;\" x=\"33.2875\" xlink:href=\"#m51e9d3da2a\" y=\"224.64\"/>\n      </g>\n     </g>\n     <g id=\"text_8\">\n      <!-- 0 -->\n      <g transform=\"translate(19.925 228.439219)scale(0.1 -0.1)\">\n       <use xlink:href=\"#DejaVuSans-48\"/>\n      </g>\n     </g>\n    </g>\n    <g id=\"ytick_2\">\n     <g id=\"line2d_17\">\n      <path clip-path=\"url(#p4107b8b613)\" d=\"M 33.2875 195.472998 \nL 368.0875 195.472998 \n\" style=\"fill:none;stroke:#b0b0b0;stroke-linecap:square;stroke-width:0.8;\"/>\n     </g>\n     <g id=\"line2d_18\">\n      <g>\n       <use style=\"stroke:#000000;stroke-width:0.8;\" x=\"33.2875\" xlink:href=\"#m51e9d3da2a\" y=\"195.472998\"/>\n      </g>\n     </g>\n     <g id=\"text_9\">\n      <!-- 20 -->\n      <g transform=\"translate(13.5625 199.272217)scale(0.1 -0.1)\">\n       <use xlink:href=\"#DejaVuSans-50\"/>\n       <use x=\"63.623047\" xlink:href=\"#DejaVuSans-48\"/>\n      </g>\n     </g>\n    </g>\n    <g id=\"ytick_3\">\n     <g id=\"line2d_19\">\n      <path clip-path=\"url(#p4107b8b613)\" d=\"M 33.2875 166.305996 \nL 368.0875 166.305996 \n\" style=\"fill:none;stroke:#b0b0b0;stroke-linecap:square;stroke-width:0.8;\"/>\n     </g>\n     <g id=\"line2d_20\">\n      <g>\n       <use style=\"stroke:#000000;stroke-width:0.8;\" x=\"33.2875\" xlink:href=\"#m51e9d3da2a\" y=\"166.305996\"/>\n      </g>\n     </g>\n     <g id=\"text_10\">\n      <!-- 40 -->\n      <g transform=\"translate(13.5625 170.105215)scale(0.1 -0.1)\">\n       <use xlink:href=\"#DejaVuSans-52\"/>\n       <use x=\"63.623047\" xlink:href=\"#DejaVuSans-48\"/>\n      </g>\n     </g>\n    </g>\n    <g id=\"ytick_4\">\n     <g id=\"line2d_21\">\n      <path clip-path=\"url(#p4107b8b613)\" d=\"M 33.2875 137.138994 \nL 368.0875 137.138994 \n\" style=\"fill:none;stroke:#b0b0b0;stroke-linecap:square;stroke-width:0.8;\"/>\n     </g>\n     <g id=\"line2d_22\">\n      <g>\n       <use style=\"stroke:#000000;stroke-width:0.8;\" x=\"33.2875\" xlink:href=\"#m51e9d3da2a\" y=\"137.138994\"/>\n      </g>\n     </g>\n     <g id=\"text_11\">\n      <!-- 60 -->\n      <g transform=\"translate(13.5625 140.938213)scale(0.1 -0.1)\">\n       <use xlink:href=\"#DejaVuSans-54\"/>\n       <use x=\"63.623047\" xlink:href=\"#DejaVuSans-48\"/>\n      </g>\n     </g>\n    </g>\n    <g id=\"ytick_5\">\n     <g id=\"line2d_23\">\n      <path clip-path=\"url(#p4107b8b613)\" d=\"M 33.2875 107.971992 \nL 368.0875 107.971992 \n\" style=\"fill:none;stroke:#b0b0b0;stroke-linecap:square;stroke-width:0.8;\"/>\n     </g>\n     <g id=\"line2d_24\">\n      <g>\n       <use style=\"stroke:#000000;stroke-width:0.8;\" x=\"33.2875\" xlink:href=\"#m51e9d3da2a\" y=\"107.971992\"/>\n      </g>\n     </g>\n     <g id=\"text_12\">\n      <!-- 80 -->\n      <defs>\n       <path d=\"M 31.78125 34.625 \nQ 24.75 34.625 20.71875 30.859375 \nQ 16.703125 27.09375 16.703125 20.515625 \nQ 16.703125 13.921875 20.71875 10.15625 \nQ 24.75 6.390625 31.78125 6.390625 \nQ 38.8125 6.390625 42.859375 10.171875 \nQ 46.921875 13.96875 46.921875 20.515625 \nQ 46.921875 27.09375 42.890625 30.859375 \nQ 38.875 34.625 31.78125 34.625 \nz\nM 21.921875 38.8125 \nQ 15.578125 40.375 12.03125 44.71875 \nQ 8.5 49.078125 8.5 55.328125 \nQ 8.5 64.0625 14.71875 69.140625 \nQ 20.953125 74.21875 31.78125 74.21875 \nQ 42.671875 74.21875 48.875 69.140625 \nQ 55.078125 64.0625 55.078125 55.328125 \nQ 55.078125 49.078125 51.53125 44.71875 \nQ 48 40.375 41.703125 38.8125 \nQ 48.828125 37.15625 52.796875 32.3125 \nQ 56.78125 27.484375 56.78125 20.515625 \nQ 56.78125 9.90625 50.3125 4.234375 \nQ 43.84375 -1.421875 31.78125 -1.421875 \nQ 19.734375 -1.421875 13.25 4.234375 \nQ 6.78125 9.90625 6.78125 20.515625 \nQ 6.78125 27.484375 10.78125 32.3125 \nQ 14.796875 37.15625 21.921875 38.8125 \nz\nM 18.3125 54.390625 \nQ 18.3125 48.734375 21.84375 45.5625 \nQ 25.390625 42.390625 31.78125 42.390625 \nQ 38.140625 42.390625 41.71875 45.5625 \nQ 45.3125 48.734375 45.3125 54.390625 \nQ 45.3125 60.0625 41.71875 63.234375 \nQ 38.140625 66.40625 31.78125 66.40625 \nQ 25.390625 66.40625 21.84375 63.234375 \nQ 18.3125 60.0625 18.3125 54.390625 \nz\n\" id=\"DejaVuSans-56\"/>\n      </defs>\n      <g transform=\"translate(13.5625 111.771211)scale(0.1 -0.1)\">\n       <use xlink:href=\"#DejaVuSans-56\"/>\n       <use x=\"63.623047\" xlink:href=\"#DejaVuSans-48\"/>\n      </g>\n     </g>\n    </g>\n    <g id=\"ytick_6\">\n     <g id=\"line2d_25\">\n      <path clip-path=\"url(#p4107b8b613)\" d=\"M 33.2875 78.80499 \nL 368.0875 78.80499 \n\" style=\"fill:none;stroke:#b0b0b0;stroke-linecap:square;stroke-width:0.8;\"/>\n     </g>\n     <g id=\"line2d_26\">\n      <g>\n       <use style=\"stroke:#000000;stroke-width:0.8;\" x=\"33.2875\" xlink:href=\"#m51e9d3da2a\" y=\"78.80499\"/>\n      </g>\n     </g>\n     <g id=\"text_13\">\n      <!-- 100 -->\n      <g transform=\"translate(7.2 82.604209)scale(0.1 -0.1)\">\n       <use xlink:href=\"#DejaVuSans-49\"/>\n       <use x=\"63.623047\" xlink:href=\"#DejaVuSans-48\"/>\n       <use x=\"127.246094\" xlink:href=\"#DejaVuSans-48\"/>\n      </g>\n     </g>\n    </g>\n    <g id=\"ytick_7\">\n     <g id=\"line2d_27\">\n      <path clip-path=\"url(#p4107b8b613)\" d=\"M 33.2875 49.637988 \nL 368.0875 49.637988 \n\" style=\"fill:none;stroke:#b0b0b0;stroke-linecap:square;stroke-width:0.8;\"/>\n     </g>\n     <g id=\"line2d_28\">\n      <g>\n       <use style=\"stroke:#000000;stroke-width:0.8;\" x=\"33.2875\" xlink:href=\"#m51e9d3da2a\" y=\"49.637988\"/>\n      </g>\n     </g>\n     <g id=\"text_14\">\n      <!-- 120 -->\n      <g transform=\"translate(7.2 53.437207)scale(0.1 -0.1)\">\n       <use xlink:href=\"#DejaVuSans-49\"/>\n       <use x=\"63.623047\" xlink:href=\"#DejaVuSans-50\"/>\n       <use x=\"127.246094\" xlink:href=\"#DejaVuSans-48\"/>\n      </g>\n     </g>\n    </g>\n    <g id=\"ytick_8\">\n     <g id=\"line2d_29\">\n      <path clip-path=\"url(#p4107b8b613)\" d=\"M 33.2875 20.470986 \nL 368.0875 20.470986 \n\" style=\"fill:none;stroke:#b0b0b0;stroke-linecap:square;stroke-width:0.8;\"/>\n     </g>\n     <g id=\"line2d_30\">\n      <g>\n       <use style=\"stroke:#000000;stroke-width:0.8;\" x=\"33.2875\" xlink:href=\"#m51e9d3da2a\" y=\"20.470986\"/>\n      </g>\n     </g>\n     <g id=\"text_15\">\n      <!-- 140 -->\n      <g transform=\"translate(7.2 24.270205)scale(0.1 -0.1)\">\n       <use xlink:href=\"#DejaVuSans-49\"/>\n       <use x=\"63.623047\" xlink:href=\"#DejaVuSans-52\"/>\n       <use x=\"127.246094\" xlink:href=\"#DejaVuSans-48\"/>\n      </g>\n     </g>\n    </g>\n   </g>\n   <g id=\"patch_23\">\n    <path d=\"M 33.2875 224.64 \nL 33.2875 7.2 \n\" style=\"fill:none;stroke:#000000;stroke-linecap:square;stroke-linejoin:miter;stroke-width:0.8;\"/>\n   </g>\n   <g id=\"patch_24\">\n    <path d=\"M 368.0875 224.64 \nL 368.0875 7.2 \n\" style=\"fill:none;stroke:#000000;stroke-linecap:square;stroke-linejoin:miter;stroke-width:0.8;\"/>\n   </g>\n   <g id=\"patch_25\">\n    <path d=\"M 33.2875 224.64 \nL 368.0875 224.64 \n\" style=\"fill:none;stroke:#000000;stroke-linecap:square;stroke-linejoin:miter;stroke-width:0.8;\"/>\n   </g>\n   <g id=\"patch_26\">\n    <path d=\"M 33.2875 7.2 \nL 368.0875 7.2 \n\" style=\"fill:none;stroke:#000000;stroke-linecap:square;stroke-linejoin:miter;stroke-width:0.8;\"/>\n   </g>\n  </g>\n </g>\n <defs>\n  <clipPath id=\"p4107b8b613\">\n   <rect height=\"217.44\" width=\"334.8\" x=\"33.2875\" y=\"7.2\"/>\n  </clipPath>\n </defs>\n</svg>\n",
      "image/png": "[encoded data removed]"
     },
     "metadata": {
      "needs_background": "light"
     }
    },
    {
     "output_type": "stream",
     "name": "stdout",
     "text": "[2020-04-04 01:12:34,661|causallift.nodes.estimate_propensity|INFO] \n### Score Table for logistic regression to calculate propensity score:\n"
    },
    {
     "output_type": "display_data",
     "data": {
      "text/plain": "       # samples  # classes  accuracy  precision    recall        f1  \\\ntrain        800          2   0.65875   0.591195  0.311258  0.407809   \ntest         200          2   0.70000   0.674419  0.386667  0.491525   \n\n        roc_auc  observed conversion rate  predicted conversion rate  \ntrain  0.590368                    0.3775                    0.19875  \ntest   0.637333                    0.3750                    0.21500  ",
      "text/html": "<div>\n<style scoped>\n    .dataframe tbody tr th:only-of-type {\n        vertical-align: middle;\n    }\n\n    .dataframe tbody tr th {\n        vertical-align: top;\n    }\n\n    .dataframe thead th {\n        text-align: right;\n    }\n</style>\n<table border=\"1\" class=\"dataframe\">\n  <thead>\n    <tr style=\"text-align: right;\">\n      <th></th>\n      <th># samples</th>\n      <th># classes</th>\n      <th>accuracy</th>\n      <th>precision</th>\n      <th>recall</th>\n      <th>f1</th>\n      <th>roc_auc</th>\n      <th>observed conversion rate</th>\n      <th>predicted conversion rate</th>\n    </tr>\n  </thead>\n  <tbody>\n    <tr>\n      <th>train</th>\n      <td>800</td>\n      <td>2</td>\n      <td>0.65875</td>\n      <td>0.591195</td>\n      <td>0.311258</td>\n      <td>0.407809</td>\n      <td>0.590368</td>\n      <td>0.3775</td>\n      <td>0.19875</td>\n    </tr>\n    <tr>\n      <th>test</th>\n      <td>200</td>\n      <td>2</td>\n      <td>0.70000</td>\n      <td>0.674419</td>\n      <td>0.386667</td>\n      <td>0.491525</td>\n      <td>0.637333</td>\n      <td>0.3750</td>\n      <td>0.21500</td>\n    </tr>\n  </tbody>\n</table>\n</div>"
     },
     "metadata": {}
    },
    {
     "output_type": "stream",
     "name": "stdout",
     "text": "[2020-04-04 01:12:34,696|causallift.nodes.estimate_propensity|INFO] \n### Confusion Matrix for Train:\n"
    },
    {
     "output_type": "display_data",
     "data": {
      "text/plain": "        Pred_0  Pred_1\nTrue_0     433      65\nTrue_1     208      94",
      "text/html": "<div>\n<style scoped>\n    .dataframe tbody tr th:only-of-type {\n        vertical-align: middle;\n    }\n\n    .dataframe tbody tr th {\n        vertical-align: top;\n    }\n\n    .dataframe thead th {\n        text-align: right;\n    }\n</style>\n<table border=\"1\" class=\"dataframe\">\n  <thead>\n    <tr style=\"text-align: right;\">\n      <th></th>\n      <th>Pred_0</th>\n      <th>Pred_1</th>\n    </tr>\n  </thead>\n  <tbody>\n    <tr>\n      <th>True_0</th>\n      <td>433</td>\n      <td>65</td>\n    </tr>\n    <tr>\n      <th>True_1</th>\n      <td>208</td>\n      <td>94</td>\n    </tr>\n  </tbody>\n</table>\n</div>"
     },
     "metadata": {}
    },
    {
     "output_type": "stream",
     "name": "stdout",
     "text": "[2020-04-04 01:12:34,707|causallift.nodes.estimate_propensity|INFO] \n### Confusion Matrix for Test:\n"
    },
    {
     "output_type": "display_data",
     "data": {
      "text/plain": "        Pred_0  Pred_1\nTrue_0     111      14\nTrue_1      46      29",
      "text/html": "<div>\n<style scoped>\n    .dataframe tbody tr th:only-of-type {\n        vertical-align: middle;\n    }\n\n    .dataframe tbody tr th {\n        vertical-align: top;\n    }\n\n    .dataframe thead th {\n        text-align: right;\n    }\n</style>\n<table border=\"1\" class=\"dataframe\">\n  <thead>\n    <tr style=\"text-align: right;\">\n      <th></th>\n      <th>Pred_0</th>\n      <th>Pred_1</th>\n    </tr>\n  </thead>\n  <tbody>\n    <tr>\n      <th>True_0</th>\n      <td>111</td>\n      <td>14</td>\n    </tr>\n    <tr>\n      <th>True_1</th>\n      <td>46</td>\n      <td>29</td>\n    </tr>\n  </tbody>\n</table>\n</div>"
     },
     "metadata": {}
    },
    {
     "output_type": "stream",
     "name": "stdout",
     "text": "[2020-04-04 01:12:34,724|kedro.runner.sequential_runner|INFO] Completed 1 out of 1 tasks\n[2020-04-04 01:12:34,727|kedro.runner.sequential_runner|INFO] Pipeline execution completed successfully.\n[2020-04-04 01:12:34,732|causallift.causal_lift|INFO] ### Treatment fraction in train dataset: 0.3775\n[2020-04-04 01:12:34,735|causallift.causal_lift|INFO] ### Treatment fraction in test dataset: 0.375\n"
    }
   ],
   "source": [
    "print('\\n[Estimate propensity scores for Inverse Probability Weighting.]')\n",
    "cl = CausalLift(train_df, test_df, enable_ipw=True, verbose=3)"
   ]
  },
  {
   "cell_type": "code",
   "execution_count": 13,
   "metadata": {},
   "outputs": [
    {
     "output_type": "stream",
     "name": "stdout",
     "text": "\n[Create 2 models for treatment and untreatment and estimate CATE (Conditional Average Treatment Effects)]\n[2020-04-04 01:12:34,789|causallift.context.flexible_context|INFO] Run pipeline (tags: ['311_fit', '312_bundle_2_models'], SequentialRunner, only_missing: False)\n[2020-04-04 01:12:34,811|kedro.pipeline.node|INFO] Running node: model_for_untreated_fit([args,df_01]) -> [untreated__model_dict]\n[2020-04-04 01:12:34,813|causallift.nodes.model_for_each|INFO] \n\n## Model for Treatment = 0.0\n[2020-04-04 01:12:35,620|causallift.nodes.model_for_each|INFO] ### Best parameters of the model trained using samples with observational Treatment: 0.0 \n {'objective': 'binary:logistic', 'base_score': 0.5, 'booster': 'gbtree', 'colsample_bylevel': 1, 'colsample_bynode': 1, 'colsample_bytree': 1, 'gamma': 0, 'gpu_id': -1, 'importance_type': 'gain', 'interaction_constraints': None, 'learning_rate': 0.1, 'max_delta_step': 0, 'max_depth': 3, 'min_child_weight': 1, 'missing': None, 'monotone_constraints': None, 'n_estimators': 100, 'n_jobs': -1, 'num_parallel_tree': 1, 'random_state': 0, 'reg_alpha': 0, 'reg_lambda': 1, 'scale_pos_weight': 1, 'subsample': 1, 'tree_method': None, 'validate_parameters': False, 'verbosity': None, 'nthread': -1, 'verbose': 0}\n[2020-04-04 01:12:35,622|causallift.nodes.model_for_each|INFO] ## Feature importances not available.\n[2020-04-04 01:12:35,643|causallift.nodes.model_for_each|INFO] \n### Outcome estimated by the model trained using samples with observational Treatment: 0.0\n"
    },
    {
     "output_type": "display_data",
     "data": {
      "text/plain": "       # samples  # classes  accuracy  precision  recall        f1  roc_auc  \\\ntrain        498          2     1.000        1.0    1.00  1.000000    1.000   \ntest         125          2     0.976        1.0    0.75  0.857143    0.875   \n\n       observed conversion rate  predicted conversion rate  \ntrain                  0.072289                   0.072289  \ntest                   0.096000                   0.072000  ",
      "text/html": "<div>\n<style scoped>\n    .dataframe tbody tr th:only-of-type {\n        vertical-align: middle;\n    }\n\n    .dataframe tbody tr th {\n        vertical-align: top;\n    }\n\n    .dataframe thead th {\n        text-align: right;\n    }\n</style>\n<table border=\"1\" class=\"dataframe\">\n  <thead>\n    <tr style=\"text-align: right;\">\n      <th></th>\n      <th># samples</th>\n      <th># classes</th>\n      <th>accuracy</th>\n      <th>precision</th>\n      <th>recall</th>\n      <th>f1</th>\n      <th>roc_auc</th>\n      <th>observed conversion rate</th>\n      <th>predicted conversion rate</th>\n    </tr>\n  </thead>\n  <tbody>\n    <tr>\n      <th>train</th>\n      <td>498</td>\n      <td>2</td>\n      <td>1.000</td>\n      <td>1.0</td>\n      <td>1.00</td>\n      <td>1.000000</td>\n      <td>1.000</td>\n      <td>0.072289</td>\n      <td>0.072289</td>\n    </tr>\n    <tr>\n      <th>test</th>\n      <td>125</td>\n      <td>2</td>\n      <td>0.976</td>\n      <td>1.0</td>\n      <td>0.75</td>\n      <td>0.857143</td>\n      <td>0.875</td>\n      <td>0.096000</td>\n      <td>0.072000</td>\n    </tr>\n  </tbody>\n</table>\n</div>"
     },
     "metadata": {}
    },
    {
     "output_type": "stream",
     "name": "stdout",
     "text": "[2020-04-04 01:12:35,664|kedro.runner.sequential_runner|INFO] Completed 1 out of 3 tasks\n[2020-04-04 01:12:35,667|kedro.pipeline.node|INFO] Running node: model_for_treated_fit([args,df_01]) -> [treated__model_dict]\n[2020-04-04 01:12:35,670|causallift.nodes.model_for_each|INFO] \n\n## Model for Treatment = 1.0\n[2020-04-04 01:12:36,099|causallift.nodes.model_for_each|INFO] ### Best parameters of the model trained using samples with observational Treatment: 1.0 \n {'objective': 'binary:logistic', 'base_score': 0.5, 'booster': 'gbtree', 'colsample_bylevel': 1, 'colsample_bynode': 1, 'colsample_bytree': 1, 'gamma': 0, 'gpu_id': -1, 'importance_type': 'gain', 'interaction_constraints': None, 'learning_rate': 0.1, 'max_delta_step': 0, 'max_depth': 3, 'min_child_weight': 1, 'missing': None, 'monotone_constraints': None, 'n_estimators': 100, 'n_jobs': -1, 'num_parallel_tree': 1, 'random_state': 0, 'reg_alpha': 0, 'reg_lambda': 1, 'scale_pos_weight': 1, 'subsample': 1, 'tree_method': None, 'validate_parameters': False, 'verbosity': None, 'nthread': -1, 'verbose': 0}\n[2020-04-04 01:12:36,101|causallift.nodes.model_for_each|INFO] ## Feature importances not available.\n[2020-04-04 01:12:36,122|causallift.nodes.model_for_each|INFO] \n### Outcome estimated by the model trained using samples with observational Treatment: 1.0\n"
    },
    {
     "output_type": "display_data",
     "data": {
      "text/plain": "       # samples  # classes  accuracy  precision    recall        f1  \\\ntrain        302          2  1.000000        1.0  1.000000  1.000000   \ntest          75          2  0.973333        1.0  0.935484  0.966667   \n\n        roc_auc  observed conversion rate  predicted conversion rate  \ntrain  1.000000                  0.364238                   0.364238  \ntest   0.967742                  0.413333                   0.386667  ",
      "text/html": "<div>\n<style scoped>\n    .dataframe tbody tr th:only-of-type {\n        vertical-align: middle;\n    }\n\n    .dataframe tbody tr th {\n        vertical-align: top;\n    }\n\n    .dataframe thead th {\n        text-align: right;\n    }\n</style>\n<table border=\"1\" class=\"dataframe\">\n  <thead>\n    <tr style=\"text-align: right;\">\n      <th></th>\n      <th># samples</th>\n      <th># classes</th>\n      <th>accuracy</th>\n      <th>precision</th>\n      <th>recall</th>\n      <th>f1</th>\n      <th>roc_auc</th>\n      <th>observed conversion rate</th>\n      <th>predicted conversion rate</th>\n    </tr>\n  </thead>\n  <tbody>\n    <tr>\n      <th>train</th>\n      <td>302</td>\n      <td>2</td>\n      <td>1.000000</td>\n      <td>1.0</td>\n      <td>1.000000</td>\n      <td>1.000000</td>\n      <td>1.000000</td>\n      <td>0.364238</td>\n      <td>0.364238</td>\n    </tr>\n    <tr>\n      <th>test</th>\n      <td>75</td>\n      <td>2</td>\n      <td>0.973333</td>\n      <td>1.0</td>\n      <td>0.935484</td>\n      <td>0.966667</td>\n      <td>0.967742</td>\n      <td>0.413333</td>\n      <td>0.386667</td>\n    </tr>\n  </tbody>\n</table>\n</div>"
     },
     "metadata": {}
    },
    {
     "output_type": "stream",
     "name": "stdout",
     "text": "[2020-04-04 01:12:36,140|kedro.runner.sequential_runner|INFO] Completed 2 out of 3 tasks\n[2020-04-04 01:12:36,155|kedro.pipeline.node|INFO] Running node: bundle_treated_and_untreated_models([treated__model_dict,untreated__model_dict]) -> [uplift_models_dict]\n[2020-04-04 01:12:36,167|kedro.runner.sequential_runner|INFO] Completed 3 out of 3 tasks\n[2020-04-04 01:12:36,172|kedro.runner.sequential_runner|INFO] Pipeline execution completed successfully.\n[2020-04-04 01:12:36,206|causallift.context.flexible_context|INFO] Run pipeline (tags: ['321_predict_proba'], SequentialRunner, only_missing: False)\n[2020-04-04 01:12:36,235|kedro.pipeline.node|INFO] Running node: model_for_untreated_predict_proba([args,df_01,uplift_models_dict]) -> [untreated__proba]\n[2020-04-04 01:12:36,254|kedro.runner.sequential_runner|INFO] Completed 1 out of 2 tasks\n[2020-04-04 01:12:36,272|kedro.pipeline.node|INFO] Running node: model_for_treated_predict_proba([args,df_01,uplift_models_dict]) -> [treated__proba]\n[2020-04-04 01:12:36,288|kedro.runner.sequential_runner|INFO] Completed 2 out of 2 tasks\n[2020-04-04 01:12:36,290|kedro.runner.sequential_runner|INFO] Pipeline execution completed successfully.\n[2020-04-04 01:12:36,295|causallift.context.flexible_context|INFO] Run pipeline (tags: ['411_compute_cate'], SequentialRunner, only_missing: False)\n[2020-04-04 01:12:36,313|kedro.pipeline.node|INFO] Running node: compute_cate([treated__proba,untreated__proba]) -> [cate_estimated]\n[2020-04-04 01:12:36,318|kedro.runner.sequential_runner|INFO] Completed 1 out of 1 tasks\n[2020-04-04 01:12:36,320|kedro.runner.sequential_runner|INFO] Pipeline execution completed successfully.\n[2020-04-04 01:12:36,325|causallift.context.flexible_context|INFO] Run pipeline (tags: ['421_add_cate_to_df'], SequentialRunner, only_missing: False)\n[2020-04-04 01:12:36,347|kedro.pipeline.node|INFO] Running node: add_cate_to_df([args,cate_estimated,df_01,treated__proba,untreated__proba]) -> [df_02]\n[2020-04-04 01:12:36,363|kedro.runner.sequential_runner|INFO] Completed 1 out of 1 tasks\n[2020-04-04 01:12:36,366|kedro.runner.sequential_runner|INFO] Pipeline execution completed successfully.\n\n[Show CATE for train dataset]\n"
    },
    {
     "output_type": "display_data",
     "data": {
      "text/plain": "       Feature_0  Feature_1  Feature_2  Treatment  Outcome  Propensity  \\\nindex                                                                    \n0       0.027653   0.660339   0.414439        1.0      1.0    0.568200   \n1       0.389549   0.263768   0.944626        0.0      0.0    0.206363   \n2       0.023237   0.531104   0.204781        0.0      1.0    0.603150   \n3       0.110477   0.405036   0.405374        1.0      1.0    0.471381   \n...          ...        ...        ...        ...      ...         ...   \n796     0.584645   0.091271   0.600471        0.0      0.0    0.219878   \n797     0.493945   0.929619   0.667215        1.0      0.0    0.443840   \n798     0.356007   0.987435   0.013655        1.0      0.0    0.715760   \n799     0.980486   0.096451   0.863471        0.0      0.0    0.115201   \n\n       Proba_if_Treated  Proba_if_Untreated      CATE  \nindex                                                  \n0              0.993008            0.013552  0.979456  \n1              0.998338            0.000238  0.998100  \n2              0.918808            0.936053 -0.017245  \n3              0.999472            0.002058  0.997414  \n...                 ...                 ...       ...  \n796            0.524303            0.000231  0.524071  \n797            0.039333            0.002723  0.036610  \n798            0.000503            0.998913 -0.998410  \n799            0.502907            0.000224  0.502684  \n\n[800 rows x 9 columns]",
      "text/html": "<div>\n<style scoped>\n    .dataframe tbody tr th:only-of-type {\n        vertical-align: middle;\n    }\n\n    .dataframe tbody tr th {\n        vertical-align: top;\n    }\n\n    .dataframe thead th {\n        text-align: right;\n    }\n</style>\n<table border=\"1\" class=\"dataframe\">\n  <thead>\n    <tr style=\"text-align: right;\">\n      <th></th>\n      <th>Feature_0</th>\n      <th>Feature_1</th>\n      <th>Feature_2</th>\n      <th>Treatment</th>\n      <th>Outcome</th>\n      <th>Propensity</th>\n      <th>Proba_if_Treated</th>\n      <th>Proba_if_Untreated</th>\n      <th>CATE</th>\n    </tr>\n    <tr>\n      <th>index</th>\n      <th></th>\n      <th></th>\n      <th></th>\n      <th></th>\n      <th></th>\n      <th></th>\n      <th></th>\n      <th></th>\n      <th></th>\n    </tr>\n  </thead>\n  <tbody>\n    <tr>\n      <th>0</th>\n      <td>0.027653</td>\n      <td>0.660339</td>\n      <td>0.414439</td>\n      <td>1.0</td>\n      <td>1.0</td>\n      <td>0.568200</td>\n      <td>0.993008</td>\n      <td>0.013552</td>\n      <td>0.979456</td>\n    </tr>\n    <tr>\n      <th>1</th>\n      <td>0.389549</td>\n      <td>0.263768</td>\n      <td>0.944626</td>\n      <td>0.0</td>\n      <td>0.0</td>\n      <td>0.206363</td>\n      <td>0.998338</td>\n      <td>0.000238</td>\n      <td>0.998100</td>\n    </tr>\n    <tr>\n      <th>2</th>\n      <td>0.023237</td>\n      <td>0.531104</td>\n      <td>0.204781</td>\n      <td>0.0</td>\n      <td>1.0</td>\n      <td>0.603150</td>\n      <td>0.918808</td>\n      <td>0.936053</td>\n      <td>-0.017245</td>\n    </tr>\n    <tr>\n      <th>3</th>\n      <td>0.110477</td>\n      <td>0.405036</td>\n      <td>0.405374</td>\n      <td>1.0</td>\n      <td>1.0</td>\n      <td>0.471381</td>\n      <td>0.999472</td>\n      <td>0.002058</td>\n      <td>0.997414</td>\n    </tr>\n    <tr>\n      <th>...</th>\n      <td>...</td>\n      <td>...</td>\n      <td>...</td>\n      <td>...</td>\n      <td>...</td>\n      <td>...</td>\n      <td>...</td>\n      <td>...</td>\n      <td>...</td>\n    </tr>\n    <tr>\n      <th>796</th>\n      <td>0.584645</td>\n      <td>0.091271</td>\n      <td>0.600471</td>\n      <td>0.0</td>\n      <td>0.0</td>\n      <td>0.219878</td>\n      <td>0.524303</td>\n      <td>0.000231</td>\n      <td>0.524071</td>\n    </tr>\n    <tr>\n      <th>797</th>\n      <td>0.493945</td>\n      <td>0.929619</td>\n      <td>0.667215</td>\n      <td>1.0</td>\n      <td>0.0</td>\n      <td>0.443840</td>\n      <td>0.039333</td>\n      <td>0.002723</td>\n      <td>0.036610</td>\n    </tr>\n    <tr>\n      <th>798</th>\n      <td>0.356007</td>\n      <td>0.987435</td>\n      <td>0.013655</td>\n      <td>1.0</td>\n      <td>0.0</td>\n      <td>0.715760</td>\n      <td>0.000503</td>\n      <td>0.998913</td>\n      <td>-0.998410</td>\n    </tr>\n    <tr>\n      <th>799</th>\n      <td>0.980486</td>\n      <td>0.096451</td>\n      <td>0.863471</td>\n      <td>0.0</td>\n      <td>0.0</td>\n      <td>0.115201</td>\n      <td>0.502907</td>\n      <td>0.000224</td>\n      <td>0.502684</td>\n    </tr>\n  </tbody>\n</table>\n<p>800 rows × 9 columns</p>\n</div>"
     },
     "metadata": {}
    },
    {
     "output_type": "stream",
     "name": "stdout",
     "text": "\n[Show CATE for test dataset]\n"
    },
    {
     "output_type": "display_data",
     "data": {
      "text/plain": "       Feature_0  Feature_1  Feature_2  Treatment  Outcome  Propensity  \\\nindex                                                                    \n0       0.083165   0.974774   0.049285        0.0      1.0    0.756486   \n1       0.599581   0.430181   0.909093        0.0      0.0    0.213857   \n2       0.653421   0.726342   0.536923        1.0      0.0    0.388449   \n3       0.099733   0.475589   0.820022        0.0      0.0    0.351978   \n...          ...        ...        ...        ...      ...         ...   \n196     0.351035   0.800597   0.365044        1.0      0.0    0.547841   \n197     0.693592   0.673458   0.952937        0.0      0.0    0.239214   \n198     0.117320   0.107004   0.589695        0.0      0.0    0.319266   \n199     0.627735   0.401428   0.416692        0.0      0.0    0.340701   \n\n       Proba_if_Treated  Proba_if_Untreated      CATE  \nindex                                                  \n0              0.046007            0.999310 -0.953304  \n1              0.503638            0.000231  0.503406  \n2              0.000438            0.000399  0.000039  \n3              0.999531            0.000494  0.999037  \n...                 ...                 ...       ...  \n196            0.006308            0.133655 -0.127346  \n197            0.134354            0.000268  0.134086  \n198            0.999761            0.000378  0.999383  \n199            0.002515            0.000295  0.002220  \n\n[200 rows x 9 columns]",
      "text/html": "<div>\n<style scoped>\n    .dataframe tbody tr th:only-of-type {\n        vertical-align: middle;\n    }\n\n    .dataframe tbody tr th {\n        vertical-align: top;\n    }\n\n    .dataframe thead th {\n        text-align: right;\n    }\n</style>\n<table border=\"1\" class=\"dataframe\">\n  <thead>\n    <tr style=\"text-align: right;\">\n      <th></th>\n      <th>Feature_0</th>\n      <th>Feature_1</th>\n      <th>Feature_2</th>\n      <th>Treatment</th>\n      <th>Outcome</th>\n      <th>Propensity</th>\n      <th>Proba_if_Treated</th>\n      <th>Proba_if_Untreated</th>\n      <th>CATE</th>\n    </tr>\n    <tr>\n      <th>index</th>\n      <th></th>\n      <th></th>\n      <th></th>\n      <th></th>\n      <th></th>\n      <th></th>\n      <th></th>\n      <th></th>\n      <th></th>\n    </tr>\n  </thead>\n  <tbody>\n    <tr>\n      <th>0</th>\n      <td>0.083165</td>\n      <td>0.974774</td>\n      <td>0.049285</td>\n      <td>0.0</td>\n      <td>1.0</td>\n      <td>0.756486</td>\n      <td>0.046007</td>\n      <td>0.999310</td>\n      <td>-0.953304</td>\n    </tr>\n    <tr>\n      <th>1</th>\n      <td>0.599581</td>\n      <td>0.430181</td>\n      <td>0.909093</td>\n      <td>0.0</td>\n      <td>0.0</td>\n      <td>0.213857</td>\n      <td>0.503638</td>\n      <td>0.000231</td>\n      <td>0.503406</td>\n    </tr>\n    <tr>\n      <th>2</th>\n      <td>0.653421</td>\n      <td>0.726342</td>\n      <td>0.536923</td>\n      <td>1.0</td>\n      <td>0.0</td>\n      <td>0.388449</td>\n      <td>0.000438</td>\n      <td>0.000399</td>\n      <td>0.000039</td>\n    </tr>\n    <tr>\n      <th>3</th>\n      <td>0.099733</td>\n      <td>0.475589</td>\n      <td>0.820022</td>\n      <td>0.0</td>\n      <td>0.0</td>\n      <td>0.351978</td>\n      <td>0.999531</td>\n      <td>0.000494</td>\n      <td>0.999037</td>\n    </tr>\n    <tr>\n      <th>...</th>\n      <td>...</td>\n      <td>...</td>\n      <td>...</td>\n      <td>...</td>\n      <td>...</td>\n      <td>...</td>\n      <td>...</td>\n      <td>...</td>\n      <td>...</td>\n    </tr>\n    <tr>\n      <th>196</th>\n      <td>0.351035</td>\n      <td>0.800597</td>\n      <td>0.365044</td>\n      <td>1.0</td>\n      <td>0.0</td>\n      <td>0.547841</td>\n      <td>0.006308</td>\n      <td>0.133655</td>\n      <td>-0.127346</td>\n    </tr>\n    <tr>\n      <th>197</th>\n      <td>0.693592</td>\n      <td>0.673458</td>\n      <td>0.952937</td>\n      <td>0.0</td>\n      <td>0.0</td>\n      <td>0.239214</td>\n      <td>0.134354</td>\n      <td>0.000268</td>\n      <td>0.134086</td>\n    </tr>\n    <tr>\n      <th>198</th>\n      <td>0.117320</td>\n      <td>0.107004</td>\n      <td>0.589695</td>\n      <td>0.0</td>\n      <td>0.0</td>\n      <td>0.319266</td>\n      <td>0.999761</td>\n      <td>0.000378</td>\n      <td>0.999383</td>\n    </tr>\n    <tr>\n      <th>199</th>\n      <td>0.627735</td>\n      <td>0.401428</td>\n      <td>0.416692</td>\n      <td>0.0</td>\n      <td>0.0</td>\n      <td>0.340701</td>\n      <td>0.002515</td>\n      <td>0.000295</td>\n      <td>0.002220</td>\n    </tr>\n  </tbody>\n</table>\n<p>200 rows × 9 columns</p>\n</div>"
     },
     "metadata": {}
    }
   ],
   "source": [
    "print('\\n[Create 2 models for treatment and untreatment and estimate CATE (Conditional Average Treatment Effects)]')\n",
    "train_df, test_df = cl.estimate_cate_by_2_models()\n",
    "\n",
    "print('\\n[Show CATE for train dataset]')\n",
    "display(train_df)\n",
    "train_df.to_csv('CATE_for_Train.csv')\n",
    "\n",
    "print('\\n[Show CATE for test dataset]')\n",
    "display(test_df)\n",
    "test_df.to_csv('CATE_for_Test.csv')"
   ]
  },
  {
   "cell_type": "code",
   "execution_count": 14,
   "metadata": {},
   "outputs": [
    {
     "output_type": "stream",
     "name": "stdout",
     "text": "\n[Estimate the effect of recommendation based on the uplift model]\n[2020-04-04 01:12:36,568|causallift.context.flexible_context|INFO] Run pipeline (tags: ['511_recommend_by_cate'], SequentialRunner, only_missing: False)\n[2020-04-04 01:12:36,597|kedro.pipeline.node|INFO] Running node: recommend_by_cate([args,df_02,treatment_fractions]) -> [df_03]\n[2020-04-04 01:12:36,704|kedro.runner.sequential_runner|INFO] Completed 1 out of 1 tasks\n[2020-04-04 01:12:36,711|kedro.runner.sequential_runner|INFO] Pipeline execution completed successfully.\n[2020-04-04 01:12:36,752|causallift.context.flexible_context|INFO] Run pipeline (tags: ['521_simulate_recommendation'], SequentialRunner, only_missing: False)\n[2020-04-04 01:12:36,813|kedro.pipeline.node|INFO] Running node: model_for_untreated_simulate_recommendation([args,df_03,uplift_models_dict]) -> [untreated__sim_eval_df]\n[2020-04-04 01:12:36,868|causallift.nodes.model_for_each|INFO] \n### Simulated outcome of samples recommended to be treatment: 0.0 by the uplift model:\n"
    },
    {
     "output_type": "display_data",
     "data": {
      "text/plain": "       # samples  # classes  accuracy  precision    recall        f1  \\\ntrain        498          2  0.919679    0.52381  1.000000  0.687500   \ntest         125          2  0.880000    0.50000  0.666667  0.571429   \n\n        roc_auc  observed conversion rate  predicted conversion rate  \ntrain  0.955947                  0.088353                   0.168675  \ntest   0.787879                  0.120000                   0.160000  ",
      "text/html": "<div>\n<style scoped>\n    .dataframe tbody tr th:only-of-type {\n        vertical-align: middle;\n    }\n\n    .dataframe tbody tr th {\n        vertical-align: top;\n    }\n\n    .dataframe thead th {\n        text-align: right;\n    }\n</style>\n<table border=\"1\" class=\"dataframe\">\n  <thead>\n    <tr style=\"text-align: right;\">\n      <th></th>\n      <th># samples</th>\n      <th># classes</th>\n      <th>accuracy</th>\n      <th>precision</th>\n      <th>recall</th>\n      <th>f1</th>\n      <th>roc_auc</th>\n      <th>observed conversion rate</th>\n      <th>predicted conversion rate</th>\n    </tr>\n  </thead>\n  <tbody>\n    <tr>\n      <th>train</th>\n      <td>498</td>\n      <td>2</td>\n      <td>0.919679</td>\n      <td>0.52381</td>\n      <td>1.000000</td>\n      <td>0.687500</td>\n      <td>0.955947</td>\n      <td>0.088353</td>\n      <td>0.168675</td>\n    </tr>\n    <tr>\n      <th>test</th>\n      <td>125</td>\n      <td>2</td>\n      <td>0.880000</td>\n      <td>0.50000</td>\n      <td>0.666667</td>\n      <td>0.571429</td>\n      <td>0.787879</td>\n      <td>0.120000</td>\n      <td>0.160000</td>\n    </tr>\n  </tbody>\n</table>\n</div>"
     },
     "metadata": {}
    },
    {
     "output_type": "stream",
     "name": "stdout",
     "text": "[2020-04-04 01:12:36,910|kedro.runner.sequential_runner|INFO] Completed 1 out of 2 tasks\n[2020-04-04 01:12:36,952|kedro.pipeline.node|INFO] Running node: model_for_treated_simulate_recommendation([args,df_03,uplift_models_dict]) -> [treated__sim_eval_df]\n[2020-04-04 01:12:37,002|causallift.nodes.model_for_each|INFO] \n### Simulated outcome of samples recommended to be treatment: 1.0 by the uplift model:\n"
    },
    {
     "output_type": "display_data",
     "data": {
      "text/plain": "       # samples  # classes  accuracy  precision  recall        f1  roc_auc  \\\ntrain        302          2  0.380795   0.352941     1.0  0.521739   0.5325   \ntest          75          2  0.373333   0.373333     1.0  0.543689   0.5000   \n\n       observed conversion rate  predicted conversion rate  \ntrain                  0.337748                   0.956954  \ntest                   0.373333                   1.000000  ",
      "text/html": "<div>\n<style scoped>\n    .dataframe tbody tr th:only-of-type {\n        vertical-align: middle;\n    }\n\n    .dataframe tbody tr th {\n        vertical-align: top;\n    }\n\n    .dataframe thead th {\n        text-align: right;\n    }\n</style>\n<table border=\"1\" class=\"dataframe\">\n  <thead>\n    <tr style=\"text-align: right;\">\n      <th></th>\n      <th># samples</th>\n      <th># classes</th>\n      <th>accuracy</th>\n      <th>precision</th>\n      <th>recall</th>\n      <th>f1</th>\n      <th>roc_auc</th>\n      <th>observed conversion rate</th>\n      <th>predicted conversion rate</th>\n    </tr>\n  </thead>\n  <tbody>\n    <tr>\n      <th>train</th>\n      <td>302</td>\n      <td>2</td>\n      <td>0.380795</td>\n      <td>0.352941</td>\n      <td>1.0</td>\n      <td>0.521739</td>\n      <td>0.5325</td>\n      <td>0.337748</td>\n      <td>0.956954</td>\n    </tr>\n    <tr>\n      <th>test</th>\n      <td>75</td>\n      <td>2</td>\n      <td>0.373333</td>\n      <td>0.373333</td>\n      <td>1.0</td>\n      <td>0.543689</td>\n      <td>0.5000</td>\n      <td>0.373333</td>\n      <td>1.000000</td>\n    </tr>\n  </tbody>\n</table>\n</div>"
     },
     "metadata": {}
    },
    {
     "output_type": "stream",
     "name": "stdout",
     "text": "[2020-04-04 01:12:37,050|kedro.runner.sequential_runner|INFO] Completed 2 out of 2 tasks\n[2020-04-04 01:12:37,053|kedro.runner.sequential_runner|INFO] Pipeline execution completed successfully.\n[2020-04-04 01:12:37,076|causallift.context.flexible_context|INFO] Run pipeline (tags: ['531_estimate_effect'], SequentialRunner, only_missing: False)\n[2020-04-04 01:12:37,113|kedro.pipeline.node|INFO] Running node: estimate_effect([treated__sim_eval_df,untreated__sim_eval_df]) -> [estimated_effect_df]\n[2020-04-04 01:12:37,137|kedro.runner.sequential_runner|INFO] Completed 1 out of 1 tasks\n[2020-04-04 01:12:37,146|kedro.runner.sequential_runner|INFO] Pipeline execution completed successfully.\n[2020-04-04 01:12:37,163|causallift.causal_lift|INFO] \n### Treated samples without and with uplift model:\n"
    },
    {
     "output_type": "display_data",
     "data": {
      "text/plain": "           # samples chosen without uplift model  \\\npartition                                          \ntrain                                        302   \ntest                                          75   \n\n           observed conversion rate without uplift model  \\\npartition                                                  \ntrain                                           0.364238   \ntest                                            0.413333   \n\n           # samples recommended by uplift model  \\\npartition                                          \ntrain                                        302   \ntest                                          75   \n\n           predicted conversion rate using uplift model  \\\npartition                                                 \ntrain                                          0.956954   \ntest                                           1.000000   \n\n           predicted improvement rate  \npartition                              \ntrain                        2.627273  \ntest                         2.419355  ",
      "text/html": "<div>\n<style scoped>\n    .dataframe tbody tr th:only-of-type {\n        vertical-align: middle;\n    }\n\n    .dataframe tbody tr th {\n        vertical-align: top;\n    }\n\n    .dataframe thead th {\n        text-align: right;\n    }\n</style>\n<table border=\"1\" class=\"dataframe\">\n  <thead>\n    <tr style=\"text-align: right;\">\n      <th></th>\n      <th># samples chosen without uplift model</th>\n      <th>observed conversion rate without uplift model</th>\n      <th># samples recommended by uplift model</th>\n      <th>predicted conversion rate using uplift model</th>\n      <th>predicted improvement rate</th>\n    </tr>\n    <tr>\n      <th>partition</th>\n      <th></th>\n      <th></th>\n      <th></th>\n      <th></th>\n      <th></th>\n    </tr>\n  </thead>\n  <tbody>\n    <tr>\n      <th>train</th>\n      <td>302</td>\n      <td>0.364238</td>\n      <td>302</td>\n      <td>0.956954</td>\n      <td>2.627273</td>\n    </tr>\n    <tr>\n      <th>test</th>\n      <td>75</td>\n      <td>0.413333</td>\n      <td>75</td>\n      <td>1.000000</td>\n      <td>2.419355</td>\n    </tr>\n  </tbody>\n</table>\n</div>"
     },
     "metadata": {}
    },
    {
     "output_type": "stream",
     "name": "stdout",
     "text": "[2020-04-04 01:12:37,180|causallift.causal_lift|INFO] \n### Untreated samples without and with uplift model:\n"
    },
    {
     "output_type": "display_data",
     "data": {
      "text/plain": "           # samples chosen without uplift model  \\\npartition                                          \ntrain                                        498   \ntest                                         125   \n\n           observed conversion rate without uplift model  \\\npartition                                                  \ntrain                                           0.072289   \ntest                                            0.096000   \n\n           # samples recommended by uplift model  \\\npartition                                          \ntrain                                        498   \ntest                                         125   \n\n           predicted conversion rate using uplift model  \\\npartition                                                 \ntrain                                          0.168675   \ntest                                           0.160000   \n\n           predicted improvement rate  \npartition                              \ntrain                        2.333333  \ntest                         1.666667  ",
      "text/html": "<div>\n<style scoped>\n    .dataframe tbody tr th:only-of-type {\n        vertical-align: middle;\n    }\n\n    .dataframe tbody tr th {\n        vertical-align: top;\n    }\n\n    .dataframe thead th {\n        text-align: right;\n    }\n</style>\n<table border=\"1\" class=\"dataframe\">\n  <thead>\n    <tr style=\"text-align: right;\">\n      <th></th>\n      <th># samples chosen without uplift model</th>\n      <th>observed conversion rate without uplift model</th>\n      <th># samples recommended by uplift model</th>\n      <th>predicted conversion rate using uplift model</th>\n      <th>predicted improvement rate</th>\n    </tr>\n    <tr>\n      <th>partition</th>\n      <th></th>\n      <th></th>\n      <th></th>\n      <th></th>\n      <th></th>\n    </tr>\n  </thead>\n  <tbody>\n    <tr>\n      <th>train</th>\n      <td>498</td>\n      <td>0.072289</td>\n      <td>498</td>\n      <td>0.168675</td>\n      <td>2.333333</td>\n    </tr>\n    <tr>\n      <th>test</th>\n      <td>125</td>\n      <td>0.096000</td>\n      <td>125</td>\n      <td>0.160000</td>\n      <td>1.666667</td>\n    </tr>\n  </tbody>\n</table>\n</div>"
     },
     "metadata": {}
    },
    {
     "output_type": "stream",
     "name": "stdout",
     "text": "\n[Show the estimated effect of recommendation based on the uplift model]\n"
    },
    {
     "output_type": "display_data",
     "data": {
      "text/plain": "           # samples  observed conversion rate without uplift model  \\\npartition                                                             \ntrain            800                                         0.1825   \ntest             200                                         0.2150   \n\n           predicted conversion rate using uplift model  \\\npartition                                                 \ntrain                                           0.46625   \ntest                                            0.47500   \n\n           predicted improvement rate  \npartition                              \ntrain                        2.554795  \ntest                         2.209302  ",
      "text/html": "<div>\n<style scoped>\n    .dataframe tbody tr th:only-of-type {\n        vertical-align: middle;\n    }\n\n    .dataframe tbody tr th {\n        vertical-align: top;\n    }\n\n    .dataframe thead th {\n        text-align: right;\n    }\n</style>\n<table border=\"1\" class=\"dataframe\">\n  <thead>\n    <tr style=\"text-align: right;\">\n      <th></th>\n      <th># samples</th>\n      <th>observed conversion rate without uplift model</th>\n      <th>predicted conversion rate using uplift model</th>\n      <th>predicted improvement rate</th>\n    </tr>\n    <tr>\n      <th>partition</th>\n      <th></th>\n      <th></th>\n      <th></th>\n      <th></th>\n    </tr>\n  </thead>\n  <tbody>\n    <tr>\n      <th>train</th>\n      <td>800</td>\n      <td>0.1825</td>\n      <td>0.46625</td>\n      <td>2.554795</td>\n    </tr>\n    <tr>\n      <th>test</th>\n      <td>200</td>\n      <td>0.2150</td>\n      <td>0.47500</td>\n      <td>2.209302</td>\n    </tr>\n  </tbody>\n</table>\n</div>"
     },
     "metadata": {}
    }
   ],
   "source": [
    "print('\\n[Estimate the effect of recommendation based on the uplift model]')\n",
    "estimated_effect_df = cl.estimate_recommendation_impact()\n",
    "\n",
    "print('\\n[Show the estimated effect of recommendation based on the uplift model]')\n",
    "display(estimated_effect_df)"
   ]
  },
  {
   "cell_type": "markdown",
   "execution_count": null,
   "metadata": {
    "colab_type": "text",
    "id": "IotMfPq0NzjH"
   },
   "outputs": [],
   "source": [
    "Targeting based on recommendation by uplift model is predicted to increase the conversion rate by 2.209 times (0.215 to 0.475) on the test portion of simulated observational data!"
   ]
  }
 ],
 "metadata": {
  "colab": {
   "collapsed_sections": [],
   "name": "CausalLift_example.ipynb",
   "provenance": [],
   "version": "0.3.2"
  },
  "kernelspec": {
   "display_name": "Python 3",
   "language": "python",
   "name": "python3"
  },
  "language_info": {
   "codemirror_mode": {
    "name": "ipython",
    "version": 3
   },
   "file_extension": ".py",
   "mimetype": "text/x-python",
   "name": "python",
   "nbconvert_exporter": "python",
   "pygments_lexer": "ipython3",
   "version": "3.6.8-final"
  },
  "pycharm": {
   "stem_cell": {
    "cell_type": "raw",
    "metadata": {
     "collapsed": false
    },
    "source": []
   }
  }
 },
 "nbformat": 4,
 "nbformat_minor": 1
}